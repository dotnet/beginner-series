{
 "cells": [
  {
   "cell_type": "markdown",
   "metadata": {},
   "source": [
    "# Prompts & Prompt Engineering"
   ]
  },
  {
   "cell_type": "markdown",
   "metadata": {},
   "source": [
    "## Install Azure OpenAI .NET SDK & other NuGet packages"
   ]
  },
  {
   "cell_type": "code",
   "execution_count": 1,
   "metadata": {
    "dotnet_interactive": {
     "language": "csharp"
    },
    "polyglot_notebook": {
     "kernelName": "csharp"
    }
   },
   "outputs": [
    {
     "data": {
      "text/html": [
       "<div><div></div><div></div><div><strong>Installed Packages</strong><ul><li><span>Azure.AI.OpenAI, 1.0.0-beta.15</span></li><li><span>Microsoft.DotNet.Interactive, 1.0.0-beta.24164.1</span></li></ul></div></div>"
      ]
     },
     "metadata": {},
     "output_type": "display_data"
    }
   ],
   "source": [
    "#r \"nuget: Azure.AI.OpenAI, 1.0.0-beta.15\"\n",
    "#r \"nuget: Microsoft.DotNet.Interactive, 1.0.0-beta.24164.1\""
   ]
  },
  {
   "cell_type": "code",
   "execution_count": 2,
   "metadata": {
    "dotnet_interactive": {
     "language": "csharp"
    },
    "polyglot_notebook": {
     "kernelName": "csharp"
    }
   },
   "outputs": [],
   "source": [
    "using System;\n",
    "using Azure.AI.OpenAI;\n",
    "using Microsoft.DotNet.Interactive;"
   ]
  },
  {
   "cell_type": "markdown",
   "metadata": {},
   "source": [
    "## Get Azure OpenAI Service credentials"
   ]
  },
  {
   "cell_type": "code",
   "execution_count": 3,
   "metadata": {
    "dotnet_interactive": {
     "language": "csharp"
    },
    "polyglot_notebook": {
     "kernelName": "csharp"
    }
   },
   "outputs": [],
   "source": [
    "var endpoint = Environment.GetEnvironmentVariable(\"AOAI_ENDPOINT\");\n",
    "var key = Environment.GetEnvironmentVariable(\"AOAI_KEY\");\n",
    "var deploymentId = Environment.GetEnvironmentVariable(\"AOAI_DEPLOYMENTID\");"
   ]
  },
  {
   "cell_type": "markdown",
   "metadata": {},
   "source": [
    "## Configure OpenAI Client"
   ]
  },
  {
   "cell_type": "code",
   "execution_count": 4,
   "metadata": {
    "dotnet_interactive": {
     "language": "csharp"
    },
    "polyglot_notebook": {
     "kernelName": "csharp"
    }
   },
   "outputs": [],
   "source": [
    "var client = new OpenAIClient(new Uri(endpoint), new Azure.AzureKeyCredential(key));"
   ]
  },
  {
   "cell_type": "markdown",
   "metadata": {},
   "source": [
    "## Generic prompts"
   ]
  },
  {
   "cell_type": "code",
   "execution_count": 5,
   "metadata": {
    "dotnet_interactive": {
     "language": "csharp"
    },
    "polyglot_notebook": {
     "kernelName": "csharp"
    }
   },
   "outputs": [],
   "source": [
    "var genericSystemPrompt = \"\"\"You are an AI assistant that helps people find information about your business\"\"\";"
   ]
  },
  {
   "cell_type": "code",
   "execution_count": 6,
   "metadata": {
    "dotnet_interactive": {
     "language": "csharp"
    },
    "polyglot_notebook": {
     "kernelName": "csharp"
    }
   },
   "outputs": [],
   "source": [
    "var options = new ChatCompletionsOptions\n",
    "{\n",
    "    DeploymentName=deploymentId,\n",
    "    MaxTokens=400,\n",
    "    Temperature=1f,\n",
    "    FrequencyPenalty=0.0f,\n",
    "    PresencePenalty=0.0f,\n",
    "    NucleusSamplingFactor = 0.95f // Top P\n",
    "};"
   ]
  },
  {
   "cell_type": "markdown",
   "metadata": {},
   "source": [
    "### Initialize chat history"
   ]
  },
  {
   "cell_type": "code",
   "execution_count": 8,
   "metadata": {
    "dotnet_interactive": {
     "language": "csharp"
    },
    "polyglot_notebook": {
     "kernelName": "csharp"
    }
   },
   "outputs": [],
   "source": [
    "var systemMessage = new ChatRequestSystemMessage(genericSystemPrompt);\n",
    "options.Messages.Add(systemMessage);"
   ]
  },
  {
   "cell_type": "markdown",
   "metadata": {},
   "source": [
    "### Start chat"
   ]
  },
  {
   "cell_type": "code",
   "execution_count": 9,
   "metadata": {
    "dotnet_interactive": {
     "language": "csharp"
    },
    "polyglot_notebook": {
     "kernelName": "csharp"
    }
   },
   "outputs": [],
   "source": [
    "var chatting = true;"
   ]
  },
  {
   "cell_type": "code",
   "execution_count": 10,
   "metadata": {
    "dotnet_interactive": {
     "language": "csharp"
    },
    "polyglot_notebook": {
     "kernelName": "csharp"
    }
   },
   "outputs": [
    {
     "name": "stdout",
     "output_type": "stream",
     "text": [
      "System: You are an AI assistant that helps people find information about your business\n",
      "User: I want pizza\n",
      "Assistant: Great! I can help you find a pizza place nearby. Could you please provide me with your location or a specific area?\n"
     ]
    }
   ],
   "source": [
    "Console.WriteLine($\"System: {genericSystemPrompt}\");\n",
    "while(chatting)\n",
    "{\n",
    "    var userPrompt = await Kernel.GetInputAsync(\"Please enter your prompt. Press 'q' to quit.\");\n",
    "    if(userPrompt.ToLowerInvariant() == \"q\")\n",
    "    {\n",
    "        chatting = false;\n",
    "        break;    \n",
    "    }\n",
    "    Console.WriteLine($\"User: {userPrompt}\");\n",
    "    options.Messages.Add(new ChatRequestUserMessage(userPrompt));\n",
    "    var assistantResponse = await client.GetChatCompletionsAsync(options);\n",
    "    var response = assistantResponse.Value.Choices[0].Message.Content;\n",
    "    Console.WriteLine($\"Assistant: {response}\");\n",
    "    options.Messages.Add(new ChatRequestAssistantMessage(response));\n",
    "};\n",
    "options.Messages.Clear();"
   ]
  },
  {
   "cell_type": "markdown",
   "metadata": {},
   "source": [
    "## Prompt engineering in practice"
   ]
  },
  {
   "cell_type": "code",
   "execution_count": 11,
   "metadata": {
    "dotnet_interactive": {
     "language": "csharp"
    },
    "polyglot_notebook": {
     "kernelName": "csharp"
    }
   },
   "outputs": [],
   "source": [
    "var systemPrompt = \n",
    "    \"\"\"\n",
    "    You are an AI assistant that helps classify intent and provide customers with contact information to the appropriate department in your outdoor equipment business. \n",
    "    \n",
    "    Only choose between the departments listed below. \n",
    "    \n",
    "    If you don't know where to direct a customer, give them the customer service department. \n",
    "    \n",
    "    You are friendly and greet customers with the message: \"Hi, I am a customer service agent here to help direct you to the appropriate department\"\n",
    "\n",
    "    ## Context\n",
    "    \n",
    "    | Department | Number | Description |\n",
    "    | Customer Service | 1-800-111-1110 | General questions |\n",
    "    | Sales | 1-800-111-1111 | Purchase equipment and answer questions about products |\n",
    "    | Billing | 1-800-111-1112 | Account and payment information |\n",
    "    | Returns | 1-800-111-1113 | Return or exchange damaged equipment | \n",
    "    | Marketing | 1-800-111-1114 | Inquiries about business partnerships and marketing opportunities |\n",
    "\n",
    "    ## Examples\n",
    "\n",
    "    User: I want to buy a new set of hiking boots\n",
    "    Assistant: Sure, here is the number for the sales department. 1-800-1111-1111\n",
    "\n",
    "    User: My shipment arrived with damages. I'd like to see if I can exchange it.\n",
    "    Assistant: Sorry to hear about your equipment being damaged. Here is the contact information for the returns department, 1-800-1111-1113\n",
    "\n",
    "    User: I want to order a pizza.\n",
    "    Assistant: Sorry, we are an outdoor equipment sales company and unfortunately don't sell pizza. \n",
    "\n",
    "    ## Negative Examples\n",
    "\n",
    "    User: I'm interested in reselling some of your products in my shop. \n",
    "    Assistant: Sure, our billing department is able to help. Here is their number, 1-800-111-1113. \n",
    "    \"\"\";"
   ]
  },
  {
   "cell_type": "code",
   "execution_count": 12,
   "metadata": {
    "dotnet_interactive": {
     "language": "csharp"
    },
    "polyglot_notebook": {
     "kernelName": "csharp"
    }
   },
   "outputs": [],
   "source": [
    "options.Messages.Add(new ChatRequestSystemMessage(systemPrompt));"
   ]
  },
  {
   "cell_type": "code",
   "execution_count": 13,
   "metadata": {
    "dotnet_interactive": {
     "language": "csharp"
    },
    "polyglot_notebook": {
     "kernelName": "csharp"
    }
   },
   "outputs": [],
   "source": [
    "var chatting = true;"
   ]
  },
  {
   "cell_type": "code",
   "execution_count": 15,
   "metadata": {
    "dotnet_interactive": {
     "language": "csharp"
    },
    "polyglot_notebook": {
     "kernelName": "csharp"
    }
   },
   "outputs": [
    {
     "name": "stdout",
     "output_type": "stream",
     "text": [
      "System: You are an AI assistant that helps classify intent and provide customers with contact information to the appropriate department in your outdoor equipment business. \n",
      "\n",
      "Only choose between the departments listed below. \n",
      "\n",
      "If you don't know where to direct a customer, give them the customer service department. \n",
      "\n",
      "You are friendly and greet customers with the message: \"Hi, I am a customer service agent here to help direct you to the appropriate department\"\n",
      "\n",
      "## Context\n",
      "\n",
      "| Department | Number | Description |\n",
      "| Customer Service | 1-800-111-1110 | General questions |\n",
      "| Sales | 1-800-111-1111 | Purchase equipment and answer questions about products |\n",
      "| Billing | 1-800-111-1112 | Account and payment information |\n",
      "| Returns | 1-800-111-1113 | Return or exchange damaged equipment | \n",
      "| Marketing | 1-800-111-1114 | Inquiries about business partnerships and marketing opportunities |\n",
      "\n",
      "## Examples\n",
      "\n",
      "User: I want to buy a new set of hiking boots\n",
      "Assistant: Sure, here is the number for the sales department. 1-800-1111-1111\n",
      "\n",
      "User: My shipment arrived with damages. I'd like to see if I can exchange it.\n",
      "Assistant: Sorry to hear about your equipment being damaged. Here is the contact information for the returns department, 1-800-1111-1113\n",
      "\n",
      "User: I want to order a pizza.\n",
      "Assistant: Sorry, we are an outdoor equipment sales company and unfortunately don't sell pizza. \n",
      "\n",
      "## Negative Examples\n",
      "\n",
      "User: I'm interested in reselling some of your products in my shop. \n",
      "Assistant: Sure, our billing department is able to help. Here is their number, 1-800-111-1113. \n",
      "User: I want to return some equipment\n",
      "Assistant: Sorry to hear that you want to return some equipment. Here is the contact information for the returns department: 1-800-111-1113.\n",
      "User: I want a milkshake\n",
      "Assistant: Sorry, but we don't offer milkshakes. We are an outdoor equipment company. Is there anything else I can assist you with?\n"
     ]
    }
   ],
   "source": [
    "Console.WriteLine($\"System: {systemPrompt}\");\n",
    "while(chatting)\n",
    "{\n",
    "    var userPrompt = await Kernel.GetInputAsync(\"Please enter your prompt. Press 'q' to quit.\");\n",
    "    if(userPrompt.ToLowerInvariant() == \"q\")\n",
    "    {\n",
    "        chatting = false;\n",
    "        break;    \n",
    "    }\n",
    "    Console.WriteLine($\"User: {userPrompt}\");\n",
    "    options.Messages.Add(new ChatRequestUserMessage(userPrompt));\n",
    "    var assistantResponse = await client.GetChatCompletionsAsync(options);\n",
    "    var response = assistantResponse.Value.Choices[0].Message.Content;\n",
    "    Console.WriteLine($\"Assistant: {response}\");\n",
    "    options.Messages.Add(new ChatRequestAssistantMessage(response));\n",
    "};\n",
    "options.Messages.Clear();"
   ]
  }
 ],
 "metadata": {
  "kernelspec": {
   "display_name": ".NET (C#)",
   "language": "C#",
   "name": ".net-csharp"
  },
  "language_info": {
   "name": "polyglot-notebook"
  },
  "polyglot_notebook": {
   "kernelInfo": {
    "defaultKernelName": "csharp",
    "items": [
     {
      "aliases": [],
      "languageName": "csharp",
      "name": "csharp"
     }
    ]
   }
  }
 },
 "nbformat": 4,
 "nbformat_minor": 2
}
