{
 "cells": [
  {
   "cell_type": "markdown",
   "metadata": {},
   "source": [
    "## Training Custom Models with AI Services\n",
    "\n",
    "This sample trains a custom image classifier to identify cracked and uncracked pavement\n",
    "\n",
    "![An image of cracked and uncracked pavement](https://learn.microsoft.com/dotnet/machine-learning/tutorials/media/image-classification-api-transfer-learning/sdnet2018decksamples.png)"
   ]
  },
  {
   "cell_type": "markdown",
   "metadata": {},
   "source": [
    "## Install NuGet packages"
   ]
  },
  {
   "cell_type": "code",
   "execution_count": 1,
   "metadata": {
    "dotnet_interactive": {
     "language": "csharp"
    },
    "polyglot_notebook": {
     "kernelName": "csharp"
    },
    "vscode": {
     "languageId": "polyglot-notebook"
    }
   },
   "outputs": [
    {
     "data": {
      "text/html": [
       "<div><div></div><div></div><div><strong>Installed Packages</strong><ul><li><span>Microsoft.Azure.CognitiveServices.Vision.CustomVision.Prediction, 2.0.0</span></li><li><span>Microsoft.Azure.CognitiveServices.Vision.CustomVision.Training, 2.1.0-preview</span></li></ul></div></div>"
      ]
     },
     "metadata": {},
     "output_type": "display_data"
    }
   ],
   "source": [
    "#r \"nuget: Microsoft.Azure.CognitiveServices.Vision.CustomVision.Training, 2.1.0-preview\"\n",
    "#r \"nuget: Microsoft.Azure.CognitiveServices.Vision.CustomVision.Prediction, 2.0.0\""
   ]
  },
  {
   "cell_type": "code",
   "execution_count": 2,
   "metadata": {
    "dotnet_interactive": {
     "language": "csharp"
    },
    "polyglot_notebook": {
     "kernelName": "csharp"
    },
    "vscode": {
     "languageId": "polyglot-notebook"
    }
   },
   "outputs": [],
   "source": [
    "using Microsoft.Azure.CognitiveServices.Vision.CustomVision.Prediction;\n",
    "using Microsoft.Azure.CognitiveServices.Vision.CustomVision.Training;\n",
    "using Microsoft.Azure.CognitiveServices.Vision.CustomVision.Training.Models;\n",
    "using System.IO;\n",
    "using System.Threading;"
   ]
  },
  {
   "cell_type": "markdown",
   "metadata": {},
   "source": [
    "## Get Azure Custom Vision Service credentials"
   ]
  },
  {
   "cell_type": "code",
   "execution_count": 3,
   "metadata": {
    "dotnet_interactive": {
     "language": "csharp"
    },
    "polyglot_notebook": {
     "kernelName": "csharp"
    },
    "vscode": {
     "languageId": "polyglot-notebook"
    }
   },
   "outputs": [],
   "source": [
    "var trainingEndpoint = Environment.GetEnvironmentVariable(\"VISION_TRAINING_ENDPOINT\");\n",
    "var trainingKey = Environment.GetEnvironmentVariable(\"VISION_TRAINING_KEY\");\n",
    "var predictionEndpoint = Environment.GetEnvironmentVariable(\"VISION_PREDICTION_ENDPOINT\");\n",
    "var predictionKey = Environment.GetEnvironmentVariable(\"VISION_PREDICTION_KEY\");\n",
    "var predictionResourceId = Environment.GetEnvironmentVariable(\"VISION_PREDICTION_RESOURCE_ID\");"
   ]
  },
  {
   "cell_type": "markdown",
   "metadata": {},
   "source": [
    "## Utility Functions"
   ]
  },
  {
   "cell_type": "code",
   "execution_count": 4,
   "metadata": {
    "dotnet_interactive": {
     "language": "csharp"
    },
    "polyglot_notebook": {
     "kernelName": "csharp"
    },
    "vscode": {
     "languageId": "polyglot-notebook"
    }
   },
   "outputs": [],
   "source": [
    "async Task<bool> ProjectExistsAsync(CustomVisionTrainingClient client, string projectName)\n",
    "{\n",
    "    var projects = await client.GetProjectsAsync();\n",
    "    return projects.Where(x => x.Name == projectName).Count() > 0 ? true : false;\n",
    "}\n",
    "\n",
    "async Task<bool> TagExistsAsync(CustomVisionTrainingClient client, string projectName, string tagName)\n",
    "{\n",
    "    var projects = await client.GetProjectsAsync();\n",
    "    var project = projects.First(x => x.Name == projectName);\n",
    "    var tags = await client.GetTagsAsync(project.Id);\n",
    "    return tags.Where(x => x.Name == tagName).Count() > 0 ? true : false;\n",
    "}"
   ]
  },
  {
   "cell_type": "markdown",
   "metadata": {},
   "source": [
    "## Configure Azure Custom Vision training client"
   ]
  },
  {
   "cell_type": "code",
   "execution_count": 5,
   "metadata": {
    "dotnet_interactive": {
     "language": "csharp"
    },
    "polyglot_notebook": {
     "kernelName": "csharp"
    },
    "vscode": {
     "languageId": "polyglot-notebook"
    }
   },
   "outputs": [],
   "source": [
    "var trainingCredentials = new Microsoft.Azure.CognitiveServices.Vision.CustomVision.Training.ApiKeyServiceClientCredentials(trainingKey);\n",
    "var trainingClient = new CustomVisionTrainingClient(trainingCredentials)\n",
    "{\n",
    "    Endpoint = trainingEndpoint\n",
    "};"
   ]
  },
  {
   "cell_type": "markdown",
   "metadata": {},
   "source": [
    "## Create Azure Custom Vision Project"
   ]
  },
  {
   "cell_type": "code",
   "execution_count": 6,
   "metadata": {
    "dotnet_interactive": {
     "language": "csharp"
    },
    "polyglot_notebook": {
     "kernelName": "csharp"
    },
    "vscode": {
     "languageId": "polyglot-notebook"
    }
   },
   "outputs": [],
   "source": [
    "var projectName = \"Infrastructure CV Project\";\n",
    "var projectExists = await ProjectExistsAsync(trainingClient, projectName);\n",
    "Project project;\n",
    "if(!projectExists)\n",
    "{\n",
    "    project = await trainingClient.CreateProjectAsync(\"Infrastructure CV Project\", \"An image classifier to detect cracks in pavement\");\n",
    "}\n",
    "else\n",
    "{\n",
    "    var projects = await trainingClient.GetProjectsAsync();\n",
    "    project = projects.First(x => x.Name == projectName);\n",
    "}"
   ]
  },
  {
   "cell_type": "markdown",
   "metadata": {},
   "source": [
    "## Create image tags\n",
    "\n",
    "- Cracked\n",
    "- Uncracked"
   ]
  },
  {
   "cell_type": "code",
   "execution_count": 7,
   "metadata": {
    "dotnet_interactive": {
     "language": "csharp"
    },
    "polyglot_notebook": {
     "kernelName": "csharp"
    },
    "vscode": {
     "languageId": "polyglot-notebook"
    }
   },
   "outputs": [],
   "source": [
    "var crackedTagName = \"Cracked\";\n",
    "var crackedTagExists = await TagExistsAsync(trainingClient, projectName, crackedTagName);\n",
    "Tag crackedTag;\n",
    "if(!crackedTagExists)\n",
    "{\n",
    "    crackedTag = await trainingClient.CreateTagAsync(project.Id, crackedTagName);\n",
    "}\n",
    "else\n",
    "{\n",
    "    var tags = await trainingClient.GetTagsAsync(project.Id);\n",
    "    crackedTag = tags.First(x => x.Name == crackedTagName);\n",
    "}\n"
   ]
  },
  {
   "cell_type": "code",
   "execution_count": 8,
   "metadata": {
    "dotnet_interactive": {
     "language": "csharp"
    },
    "polyglot_notebook": {
     "kernelName": "csharp"
    },
    "vscode": {
     "languageId": "polyglot-notebook"
    }
   },
   "outputs": [],
   "source": [
    "var uncrackedTagName = \"Uncracked\";\n",
    "var uncrackedTagExists = await TagExistsAsync(trainingClient, projectName, crackedTagName);\n",
    "Tag uncrackedTag;\n",
    "if(!uncrackedTagExists)\n",
    "{\n",
    "    uncrackedTag = await trainingClient.CreateTagAsync(project.Id, uncrackedTagName);\n",
    "}\n",
    "else\n",
    "{\n",
    "    var tags = await trainingClient.GetTagsAsync(project.Id);\n",
    "    uncrackedTag = tags.First(x => x.Name == crackedTagName);\n",
    "}"
   ]
  },
  {
   "cell_type": "markdown",
   "metadata": {},
   "source": [
    "## Upload images"
   ]
  },
  {
   "cell_type": "markdown",
   "metadata": {},
   "source": [
    "### Define image directory and file paths"
   ]
  },
  {
   "cell_type": "code",
   "execution_count": 9,
   "metadata": {
    "dotnet_interactive": {
     "language": "csharp"
    },
    "polyglot_notebook": {
     "kernelName": "csharp"
    },
    "vscode": {
     "languageId": "polyglot-notebook"
    }
   },
   "outputs": [],
   "source": [
    "var crackedImageDirectory = Path.GetFullPath(Path.Join(\"..\",\"Data\",\"assets\",\"CD\"));\n",
    "var uncrackedImageDirectory = Path.GetFullPath(Path.Join(\"..\",\"Data\",\"assets\",\"UD\"));"
   ]
  },
  {
   "cell_type": "code",
   "execution_count": 10,
   "metadata": {
    "dotnet_interactive": {
     "language": "csharp"
    },
    "polyglot_notebook": {
     "kernelName": "csharp"
    },
    "vscode": {
     "languageId": "polyglot-notebook"
    }
   },
   "outputs": [],
   "source": [
    "var crackedImagePaths = Directory.GetFiles(crackedImageDirectory);\n",
    "var uncrackedImagePaths = Directory.GetFiles(uncrackedImageDirectory);"
   ]
  },
  {
   "cell_type": "markdown",
   "metadata": {},
   "source": [
    "### Upload images"
   ]
  },
  {
   "cell_type": "code",
   "execution_count": 11,
   "metadata": {
    "dotnet_interactive": {
     "language": "csharp"
    },
    "polyglot_notebook": {
     "kernelName": "csharp"
    },
    "vscode": {
     "languageId": "polyglot-notebook"
    }
   },
   "outputs": [],
   "source": [
    "foreach(var image in crackedImagePaths)\n",
    "{\n",
    "    using(var stream = new MemoryStream(File.ReadAllBytes(image)))\n",
    "    {\n",
    "        trainingClient.CreateImagesFromData(project.Id, stream, new List<Guid>() {crackedTag.Id});\n",
    "    }\n",
    "}"
   ]
  },
  {
   "cell_type": "code",
   "execution_count": 12,
   "metadata": {
    "dotnet_interactive": {
     "language": "csharp"
    },
    "polyglot_notebook": {
     "kernelName": "csharp"
    },
    "vscode": {
     "languageId": "polyglot-notebook"
    }
   },
   "outputs": [],
   "source": [
    "foreach(var image in uncrackedImagePaths)\n",
    "{\n",
    "    using(var stream = new MemoryStream(File.ReadAllBytes(image)))\n",
    "    {\n",
    "        trainingClient.CreateImagesFromData(project.Id, stream, new List<Guid>() {uncrackedTag.Id});\n",
    "    }\n",
    "}"
   ]
  },
  {
   "cell_type": "markdown",
   "metadata": {},
   "source": [
    "## Train custom vision model"
   ]
  },
  {
   "cell_type": "code",
   "execution_count": 13,
   "metadata": {
    "dotnet_interactive": {
     "language": "csharp"
    },
    "polyglot_notebook": {
     "kernelName": "csharp"
    },
    "vscode": {
     "languageId": "polyglot-notebook"
    }
   },
   "outputs": [
    {
     "name": "stdout",
     "output_type": "stream",
     "text": [
      "Training\n",
      "......................................."
     ]
    }
   ],
   "source": [
    "var iteration = trainingClient.TrainProject(project.Id);\n",
    "\n",
    "Console.WriteLine(\"Training\");\n",
    "\n",
    "while(iteration.Status == \"Training\")\n",
    "{\n",
    "    Console.Write(\".\");\n",
    "    Thread.Sleep(5000);\n",
    "    iteration = trainingClient.GetIteration(project.Id, iteration.Id);\n",
    "}"
   ]
  },
  {
   "cell_type": "markdown",
   "metadata": {},
   "source": [
    "## Publish trained model"
   ]
  },
  {
   "cell_type": "code",
   "execution_count": 14,
   "metadata": {
    "dotnet_interactive": {
     "language": "csharp"
    },
    "polyglot_notebook": {
     "kernelName": "csharp"
    },
    "vscode": {
     "languageId": "polyglot-notebook"
    }
   },
   "outputs": [],
   "source": [
    "var modelName = \"InfrastructureClassifierModel\"; \n",
    "await trainingClient.PublishIterationAsync(project.Id, iteration.Id, modelName, predictionResourceId);"
   ]
  },
  {
   "cell_type": "markdown",
   "metadata": {},
   "source": [
    "## Test the model"
   ]
  },
  {
   "cell_type": "markdown",
   "metadata": {},
   "source": [
    "### Configure Azure Custom Vision prediction client"
   ]
  },
  {
   "cell_type": "code",
   "execution_count": 15,
   "metadata": {
    "dotnet_interactive": {
     "language": "csharp"
    },
    "polyglot_notebook": {
     "kernelName": "csharp"
    },
    "vscode": {
     "languageId": "polyglot-notebook"
    }
   },
   "outputs": [],
   "source": [
    "var predictionCredentials = new Microsoft.Azure.CognitiveServices.Vision.CustomVision.Prediction.ApiKeyServiceClientCredentials(predictionKey);\n",
    "var predictionClient = new CustomVisionPredictionClient(predictionCredentials)\n",
    "{\n",
    "    Endpoint = predictionEndpoint\n",
    "};"
   ]
  },
  {
   "cell_type": "markdown",
   "metadata": {},
   "source": [
    "### Get images to test"
   ]
  },
  {
   "cell_type": "code",
   "execution_count": 16,
   "metadata": {
    "dotnet_interactive": {
     "language": "csharp"
    },
    "polyglot_notebook": {
     "kernelName": "csharp"
    },
    "vscode": {
     "languageId": "polyglot-notebook"
    }
   },
   "outputs": [],
   "source": [
    "var crackedImage = crackedImagePaths.First();\n",
    "var crackedImageStream = new MemoryStream(File.ReadAllBytes(crackedImage));"
   ]
  },
  {
   "cell_type": "markdown",
   "metadata": {},
   "source": [
    "### Make prediction"
   ]
  },
  {
   "cell_type": "code",
   "execution_count": 17,
   "metadata": {
    "dotnet_interactive": {
     "language": "csharp"
    },
    "polyglot_notebook": {
     "kernelName": "csharp"
    },
    "vscode": {
     "languageId": "polyglot-notebook"
    }
   },
   "outputs": [],
   "source": [
    "var prediction = await predictionClient.ClassifyImageAsync(project.Id, modelName, crackedImageStream);"
   ]
  },
  {
   "cell_type": "markdown",
   "metadata": {},
   "source": [
    "### Display prediction results"
   ]
  },
  {
   "cell_type": "code",
   "execution_count": 18,
   "metadata": {
    "dotnet_interactive": {
     "language": "csharp"
    },
    "polyglot_notebook": {
     "kernelName": "csharp"
    },
    "vscode": {
     "languageId": "polyglot-notebook"
    }
   },
   "outputs": [
    {
     "data": {
      "text/html": [
       "<details open=\"open\" class=\"dni-treeview\"><summary><span class=\"dni-code-hint\"><code>Microsoft.Azure.CognitiveServices.Vision.CustomVision.Prediction.Models.ImagePrediction</code></span></summary><div><table><thead><tr></tr></thead><tbody><tr><td>Id</td><td><div class=\"dni-plaintext\"><pre>b762f106-b0d6-4ed6-ab43-c23542e57643</pre></div></td></tr><tr><td>Project</td><td><div class=\"dni-plaintext\"><pre>588fe577-9e96-4bb5-8e4f-9a67dd9d784d</pre></div></td></tr><tr><td>Iteration</td><td><div class=\"dni-plaintext\"><pre>87280362-1b94-4d79-97a5-a4923484ad71</pre></div></td></tr><tr><td>Created</td><td><span>2024-03-27 00:37:54Z</span></td></tr><tr><td>Predictions</td><td><table><thead><tr><th><i>index</i></th><th>value</th></tr></thead><tbody><tr><td>0</td><td><details class=\"dni-treeview\"><summary><span class=\"dni-code-hint\"><code>Microsoft.Azure.CognitiveServices.Vision.CustomVision.Prediction.Models.PredictionModel</code></span></summary><div><table><thead><tr></tr></thead><tbody><tr><td>Probability</td><td><div class=\"dni-plaintext\"><pre>1</pre></div></td></tr><tr><td>TagId</td><td><div class=\"dni-plaintext\"><pre>43131e0b-1433-432b-8320-8697f7927555</pre></div></td></tr><tr><td>TagName</td><td><div class=\"dni-plaintext\"><pre>Cracked</pre></div></td></tr><tr><td>BoundingBox</td><td><div class=\"dni-plaintext\"><pre>&lt;null&gt;</pre></div></td></tr><tr><td>TagType</td><td><div class=\"dni-plaintext\"><pre>Regular</pre></div></td></tr></tbody></table></div></details></td></tr></tbody></table></td></tr></tbody></table></div></details><style>\r\n",
       ".dni-code-hint {\r\n",
       "    font-style: italic;\r\n",
       "    overflow: hidden;\r\n",
       "    white-space: nowrap;\r\n",
       "}\r\n",
       ".dni-treeview {\r\n",
       "    white-space: nowrap;\r\n",
       "}\r\n",
       ".dni-treeview td {\r\n",
       "    vertical-align: top;\r\n",
       "    text-align: start;\r\n",
       "}\r\n",
       "details.dni-treeview {\r\n",
       "    padding-left: 1em;\r\n",
       "}\r\n",
       "table td {\r\n",
       "    text-align: start;\r\n",
       "}\r\n",
       "table tr { \r\n",
       "    vertical-align: top; \r\n",
       "    margin: 0em 0px;\r\n",
       "}\r\n",
       "table tr td pre \r\n",
       "{ \r\n",
       "    vertical-align: top !important; \r\n",
       "    margin: 0em 0px !important;\r\n",
       "} \r\n",
       "table th {\r\n",
       "    text-align: start;\r\n",
       "}\r\n",
       "</style>"
      ]
     },
     "metadata": {},
     "output_type": "display_data"
    }
   ],
   "source": [
    "prediction"
   ]
  }
 ],
 "metadata": {
  "language_info": {
   "name": "csharp"
  },
  "orig_nbformat": 4
 },
 "nbformat": 4,
 "nbformat_minor": 2
}
