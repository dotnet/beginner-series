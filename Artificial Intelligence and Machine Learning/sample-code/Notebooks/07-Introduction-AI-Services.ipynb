{
 "cells": [
  {
   "cell_type": "markdown",
   "metadata": {},
   "source": [
    "# Introduction to AI Services\n",
    "\n",
    "This samples shows the use of the Azure Document Intelligence service to extract tables from a document.\n",
    "\n",
    "![An image of a Microsoft 10-Q PDF document](https://github.com/luisquintanilla/todo-plugin-sample/assets/46974588/250c602b-4dc3-4717-9b2e-c95585df0055)"
   ]
  },
  {
   "cell_type": "markdown",
   "metadata": {},
   "source": [
    "## Install NuGet packages"
   ]
  },
  {
   "cell_type": "code",
   "execution_count": 1,
   "metadata": {
    "dotnet_interactive": {
     "language": "csharp"
    },
    "polyglot_notebook": {
     "kernelName": "csharp"
    },
    "vscode": {
     "languageId": "polyglot-notebook"
    }
   },
   "outputs": [
    {
     "data": {
      "text/html": [
       "<div><div></div><div></div><div><strong>Installed Packages</strong><ul><li><span>Azure.AI.FormRecognizer, 4.1.0</span></li></ul></div></div>"
      ]
     },
     "metadata": {},
     "output_type": "display_data"
    }
   ],
   "source": [
    "#r \"nuget: Azure.AI.FormRecognizer, 4.1.0\""
   ]
  },
  {
   "cell_type": "code",
   "execution_count": 2,
   "metadata": {
    "dotnet_interactive": {
     "language": "csharp"
    },
    "polyglot_notebook": {
     "kernelName": "csharp"
    },
    "vscode": {
     "languageId": "polyglot-notebook"
    }
   },
   "outputs": [],
   "source": [
    "using Azure;\n",
    "using Azure.AI.FormRecognizer.DocumentAnalysis;"
   ]
  },
  {
   "cell_type": "markdown",
   "metadata": {},
   "source": [
    "## Get Azure Document Intelligence credentials"
   ]
  },
  {
   "cell_type": "code",
   "execution_count": 3,
   "metadata": {
    "dotnet_interactive": {
     "language": "csharp"
    },
    "polyglot_notebook": {
     "kernelName": "csharp"
    },
    "vscode": {
     "languageId": "polyglot-notebook"
    }
   },
   "outputs": [],
   "source": [
    "var endpoint = Environment.GetEnvironmentVariable(\"DOCUMENT_ENDPOINT\");\n",
    "var key = Environment.GetEnvironmentVariable(\"DOCUMENT_KEY\");"
   ]
  },
  {
   "cell_type": "markdown",
   "metadata": {},
   "source": [
    "## Configure Document Intelligence client"
   ]
  },
  {
   "cell_type": "code",
   "execution_count": 4,
   "metadata": {
    "dotnet_interactive": {
     "language": "csharp"
    },
    "polyglot_notebook": {
     "kernelName": "csharp"
    },
    "vscode": {
     "languageId": "polyglot-notebook"
    }
   },
   "outputs": [],
   "source": [
    "AzureKeyCredential credential = new AzureKeyCredential(key);\n",
    "DocumentAnalysisClient client = new DocumentAnalysisClient(new Uri(endpoint), credential);"
   ]
  },
  {
   "cell_type": "markdown",
   "metadata": {},
   "source": [
    "## Define file to analyze"
   ]
  },
  {
   "cell_type": "code",
   "execution_count": 5,
   "metadata": {
    "dotnet_interactive": {
     "language": "csharp"
    },
    "polyglot_notebook": {
     "kernelName": "csharp"
    },
    "vscode": {
     "languageId": "polyglot-notebook"
    }
   },
   "outputs": [],
   "source": [
    "var fileUri = new Uri(\"https://raw.githubusercontent.com/Azure-Samples/cognitive-services-REST-api-samples/master/curl/form-recognizer/sample-layout.pdf\");"
   ]
  },
  {
   "cell_type": "markdown",
   "metadata": {},
   "source": [
    "## Analyze document"
   ]
  },
  {
   "cell_type": "code",
   "execution_count": 6,
   "metadata": {
    "dotnet_interactive": {
     "language": "csharp"
    },
    "polyglot_notebook": {
     "kernelName": "csharp"
    },
    "vscode": {
     "languageId": "polyglot-notebook"
    }
   },
   "outputs": [],
   "source": [
    "var analysisOperation = await client.AnalyzeDocumentFromUriAsync(WaitUntil.Completed, \"prebuilt-document\", fileUri);"
   ]
  },
  {
   "cell_type": "markdown",
   "metadata": {},
   "source": [
    "## Show tables"
   ]
  },
  {
   "cell_type": "code",
   "execution_count": 7,
   "metadata": {
    "dotnet_interactive": {
     "language": "csharp"
    },
    "polyglot_notebook": {
     "kernelName": "csharp"
    },
    "vscode": {
     "languageId": "polyglot-notebook"
    }
   },
   "outputs": [
    {
     "data": {
      "text/html": [
       "<table><thead><tr><th><i>index</i></th><th>value</th></tr></thead><tbody><tr><td>0</td><td><details class=\"dni-treeview\"><summary><span class=\"dni-code-hint\"><code>Azure.AI.FormRecognizer.DocumentAnalysis.DocumentTable</code></span></summary><div><table><thead><tr></tr></thead><tbody><tr><td>RowCount</td><td><div class=\"dni-plaintext\"><pre>5</pre></div></td></tr><tr><td>ColumnCount</td><td><div class=\"dni-plaintext\"><pre>3</pre></div></td></tr><tr><td>Cells</td><td><table><thead><tr><th><i>index</i></th><th>value</th></tr></thead><tbody><tr><td>0</td><td><details class=\"dni-treeview\"><summary><span class=\"dni-code-hint\"><code>Azure.AI.FormRecognizer.DocumentAnalysis.DocumentTableCell</code></span></summary><div><table><thead><tr></tr></thead><tbody><tr><td>Kind</td><td><details class=\"dni-treeview\"><summary><span class=\"dni-code-hint\"><code>columnHeader</code></span></summary><div><table><thead><tr></tr></thead><tbody></tbody></table></div></details></td></tr><tr><td>RowSpan</td><td><div class=\"dni-plaintext\"><pre>1</pre></div></td></tr><tr><td>ColumnSpan</td><td><div class=\"dni-plaintext\"><pre>1</pre></div></td></tr><tr><td>RowIndex</td><td><div class=\"dni-plaintext\"><pre>0</pre></div></td></tr><tr><td>ColumnIndex</td><td><div class=\"dni-plaintext\"><pre>0</pre></div></td></tr><tr><td>Content</td><td><div class=\"dni-plaintext\"><pre>Title of each class</pre></div></td></tr><tr><td>BoundingRegions</td><td><table><thead><tr><th><i>index</i></th><th>value</th></tr></thead><tbody><tr><td>0</td><td><details class=\"dni-treeview\"><summary><span class=\"dni-code-hint\"><code>Page: 1, Polygon: {X=0.5561, Y=4.8963},{X=3.8728, Y=4.8963},{X=3.8728, Y=5.1163},{X=0.5561, Y=5.1163}</code></span></summary><div><table><thead><tr></tr></thead><tbody><tr><td>PageNumber</td><td>1</td></tr><tr><td>BoundingPolygon</td><td>[ {X=0.5561, Y=4.8963}, {X=3.8728, Y=4.8963}, {X=3.8728, Y=5.1163}, {X=0.5561, Y=5.1163} ]</td></tr></tbody></table></div></details></td></tr></tbody></table></td></tr><tr><td>Spans</td><td><table><thead><tr><th><i>index</i></th><th>value</th></tr></thead><tbody><tr><td>0</td><td><details class=\"dni-treeview\"><summary><span class=\"dni-code-hint\"><code>Index: 636, Length: 19</code></span></summary><div><table><thead><tr></tr></thead><tbody><tr><td>Index</td><td>636</td></tr><tr><td>Length</td><td>19</td></tr></tbody></table></div></details></td></tr></tbody></table></td></tr></tbody></table></div></details></td></tr><tr><td>1</td><td><details class=\"dni-treeview\"><summary><span class=\"dni-code-hint\"><code>Azure.AI.FormRecognizer.DocumentAnalysis.DocumentTableCell</code></span></summary><div><table><thead><tr></tr></thead><tbody><tr><td>Kind</td><td><details class=\"dni-treeview\"><summary><span class=\"dni-code-hint\"><code>columnHeader</code></span></summary><div><table><thead><tr></tr></thead><tbody></tbody></table></div></details></td></tr><tr><td>RowSpan</td><td><div class=\"dni-plaintext\"><pre>1</pre></div></td></tr><tr><td>ColumnSpan</td><td><div class=\"dni-plaintext\"><pre>1</pre></div></td></tr><tr><td>RowIndex</td><td><div class=\"dni-plaintext\"><pre>0</pre></div></td></tr><tr><td>ColumnIndex</td><td><div class=\"dni-plaintext\"><pre>1</pre></div></td></tr><tr><td>Content</td><td><div class=\"dni-plaintext\"><pre>Trading Symbol</pre></div></td></tr><tr><td>BoundingRegions</td><td><table><thead><tr><th><i>index</i></th><th>value</th></tr></thead><tbody><tr><td>0</td><td><details class=\"dni-treeview\"><summary><span class=\"dni-code-hint\"><code>Page: 1, Polygon: {X=3.8728, Y=4.8963},{X=5.381, Y=4.8963},{X=5.3883, Y=5.1163},{X=3.8728, Y=5.1163}</code></span></summary><div><table><thead><tr></tr></thead><tbody><tr><td>PageNumber</td><td>1</td></tr><tr><td>BoundingPolygon</td><td>[ {X=3.8728, Y=4.8963}, {X=5.381, Y=4.8963}, {X=5.3883, Y=5.1163}, {X=3.8728, Y=5.1163} ]</td></tr></tbody></table></div></details></td></tr></tbody></table></td></tr><tr><td>Spans</td><td><table><thead><tr><th><i>index</i></th><th>value</th></tr></thead><tbody><tr><td>0</td><td><details class=\"dni-treeview\"><summary><span class=\"dni-code-hint\"><code>Index: 656, Length: 14</code></span></summary><div><table><thead><tr></tr></thead><tbody><tr><td>Index</td><td>656</td></tr><tr><td>Length</td><td>14</td></tr></tbody></table></div></details></td></tr></tbody></table></td></tr></tbody></table></div></details></td></tr><tr><td>2</td><td><details class=\"dni-treeview\"><summary><span class=\"dni-code-hint\"><code>Azure.AI.FormRecognizer.DocumentAnalysis.DocumentTableCell</code></span></summary><div><table><thead><tr></tr></thead><tbody><tr><td>Kind</td><td><details class=\"dni-treeview\"><summary><span class=\"dni-code-hint\"><code>columnHeader</code></span></summary><div><table><thead><tr></tr></thead><tbody></tbody></table></div></details></td></tr><tr><td>RowSpan</td><td><div class=\"dni-plaintext\"><pre>1</pre></div></td></tr><tr><td>ColumnSpan</td><td><div class=\"dni-plaintext\"><pre>1</pre></div></td></tr><tr><td>RowIndex</td><td><div class=\"dni-plaintext\"><pre>0</pre></div></td></tr><tr><td>ColumnIndex</td><td><div class=\"dni-plaintext\"><pre>2</pre></div></td></tr><tr><td>Content</td><td><div class=\"dni-plaintext\"><pre>Name of exchange on which registered</pre></div></td></tr><tr><td>BoundingRegions</td><td><table><thead><tr><th><i>index</i></th><th>value</th></tr></thead><tbody><tr><td>0</td><td><details class=\"dni-treeview\"><summary><span class=\"dni-code-hint\"><code>Page: 1, Polygon: {X=5.381, Y=4.8963},{X=7.7019, Y=4.8963},{X=7.7019, Y=5.1163},{X=5.3883, Y=5.1163}</code></span></summary><div><table><thead><tr></tr></thead><tbody><tr><td>PageNumber</td><td>1</td></tr><tr><td>BoundingPolygon</td><td>[ {X=5.381, Y=4.8963}, {X=7.7019, Y=4.8963}, {X=7.7019, Y=5.1163}, {X=5.3883, Y=5.1163} ]</td></tr></tbody></table></div></details></td></tr></tbody></table></td></tr><tr><td>Spans</td><td><table><thead><tr><th><i>index</i></th><th>value</th></tr></thead><tbody><tr><td>0</td><td><details class=\"dni-treeview\"><summary><span class=\"dni-code-hint\"><code>Index: 671, Length: 36</code></span></summary><div><table><thead><tr></tr></thead><tbody><tr><td>Index</td><td>671</td></tr><tr><td>Length</td><td>36</td></tr></tbody></table></div></details></td></tr></tbody></table></td></tr></tbody></table></div></details></td></tr><tr><td>3</td><td><details class=\"dni-treeview\"><summary><span class=\"dni-code-hint\"><code>Azure.AI.FormRecognizer.DocumentAnalysis.DocumentTableCell</code></span></summary><div><table><thead><tr></tr></thead><tbody><tr><td>Kind</td><td><details class=\"dni-treeview\"><summary><span class=\"dni-code-hint\"><code>content</code></span></summary><div><table><thead><tr></tr></thead><tbody></tbody></table></div></details></td></tr><tr><td>RowSpan</td><td><div class=\"dni-plaintext\"><pre>1</pre></div></td></tr><tr><td>ColumnSpan</td><td><div class=\"dni-plaintext\"><pre>1</pre></div></td></tr><tr><td>RowIndex</td><td><div class=\"dni-plaintext\"><pre>1</pre></div></td></tr><tr><td>ColumnIndex</td><td><div class=\"dni-plaintext\"><pre>0</pre></div></td></tr><tr><td>Content</td><td><div class=\"dni-plaintext\"><pre>Common stock, $0.00000625 par value per share</pre></div></td></tr><tr><td>BoundingRegions</td><td><table><thead><tr><th><i>index</i></th><th>value</th></tr></thead><tbody><tr><td>0</td><td><details class=\"dni-treeview\"><summary><span class=\"dni-code-hint\"><code>Page: 1, Polygon: {X=0.5561, Y=5.1163},{X=3.8728, Y=5.1163},{X=3.8728, Y=5.2997},{X=0.5561, Y=5.2997}</code></span></summary><div><table><thead><tr></tr></thead><tbody><tr><td>PageNumber</td><td>1</td></tr><tr><td>BoundingPolygon</td><td>[ {X=0.5561, Y=5.1163}, {X=3.8728, Y=5.1163}, {X=3.8728, Y=5.2997}, {X=0.5561, Y=5.2997} ]</td></tr></tbody></table></div></details></td></tr></tbody></table></td></tr><tr><td>Spans</td><td><table><thead><tr><th><i>index</i></th><th>value</th></tr></thead><tbody><tr><td>0</td><td><details class=\"dni-treeview\"><summary><span class=\"dni-code-hint\"><code>Index: 708, Length: 45</code></span></summary><div><table><thead><tr></tr></thead><tbody><tr><td>Index</td><td>708</td></tr><tr><td>Length</td><td>45</td></tr></tbody></table></div></details></td></tr></tbody></table></td></tr></tbody></table></div></details></td></tr><tr><td>4</td><td><details class=\"dni-treeview\"><summary><span class=\"dni-code-hint\"><code>Azure.AI.FormRecognizer.DocumentAnalysis.DocumentTableCell</code></span></summary><div><table><thead><tr></tr></thead><tbody><tr><td>Kind</td><td><details class=\"dni-treeview\"><summary><span class=\"dni-code-hint\"><code>content</code></span></summary><div><table><thead><tr></tr></thead><tbody></tbody></table></div></details></td></tr><tr><td>RowSpan</td><td><div class=\"dni-plaintext\"><pre>1</pre></div></td></tr><tr><td>ColumnSpan</td><td><div class=\"dni-plaintext\"><pre>1</pre></div></td></tr><tr><td>RowIndex</td><td><div class=\"dni-plaintext\"><pre>1</pre></div></td></tr><tr><td>ColumnIndex</td><td><div class=\"dni-plaintext\"><pre>1</pre></div></td></tr><tr><td>Content</td><td><div class=\"dni-plaintext\"><pre>MSFT</pre></div></td></tr><tr><td>BoundingRegions</td><td><table><thead><tr><th><i>index</i></th><th>value</th></tr></thead><tbody><tr><td>0</td><td><details class=\"dni-treeview\"><summary><span class=\"dni-code-hint\"><code>Page: 1, Polygon: {X=3.8728, Y=5.1163},{X=5.3883, Y=5.1163},{X=5.3883, Y=5.2997},{X=3.8728, Y=5.2997}</code></span></summary><div><table><thead><tr></tr></thead><tbody><tr><td>PageNumber</td><td>1</td></tr><tr><td>BoundingPolygon</td><td>[ {X=3.8728, Y=5.1163}, {X=5.3883, Y=5.1163}, {X=5.3883, Y=5.2997}, {X=3.8728, Y=5.2997} ]</td></tr></tbody></table></div></details></td></tr></tbody></table></td></tr><tr><td>Spans</td><td><table><thead><tr><th><i>index</i></th><th>value</th></tr></thead><tbody><tr><td>0</td><td><details class=\"dni-treeview\"><summary><span class=\"dni-code-hint\"><code>Index: 754, Length: 4</code></span></summary><div><table><thead><tr></tr></thead><tbody><tr><td>Index</td><td>754</td></tr><tr><td>Length</td><td>4</td></tr></tbody></table></div></details></td></tr></tbody></table></td></tr></tbody></table></div></details></td></tr><tr><td>5</td><td><details class=\"dni-treeview\"><summary><span class=\"dni-code-hint\"><code>Azure.AI.FormRecognizer.DocumentAnalysis.DocumentTableCell</code></span></summary><div><table><thead><tr></tr></thead><tbody><tr><td>Kind</td><td><details class=\"dni-treeview\"><summary><span class=\"dni-code-hint\"><code>content</code></span></summary><div><table><thead><tr></tr></thead><tbody></tbody></table></div></details></td></tr><tr><td>RowSpan</td><td><div class=\"dni-plaintext\"><pre>1</pre></div></td></tr><tr><td>ColumnSpan</td><td><div class=\"dni-plaintext\"><pre>1</pre></div></td></tr><tr><td>RowIndex</td><td><div class=\"dni-plaintext\"><pre>1</pre></div></td></tr><tr><td>ColumnIndex</td><td><div class=\"dni-plaintext\"><pre>2</pre></div></td></tr><tr><td>Content</td><td><div class=\"dni-plaintext\"><pre>NASDAQ</pre></div></td></tr><tr><td>BoundingRegions</td><td><table><thead><tr><th><i>index</i></th><th>value</th></tr></thead><tbody><tr><td>0</td><td><details class=\"dni-treeview\"><summary><span class=\"dni-code-hint\"><code>Page: 1, Polygon: {X=5.3883, Y=5.1163},{X=7.7019, Y=5.1163},{X=7.7019, Y=5.2997},{X=5.3883, Y=5.2997}</code></span></summary><div><table><thead><tr></tr></thead><tbody><tr><td>PageNumber</td><td>1</td></tr><tr><td>BoundingPolygon</td><td>[ {X=5.3883, Y=5.1163}, {X=7.7019, Y=5.1163}, {X=7.7019, Y=5.2997}, {X=5.3883, Y=5.2997} ]</td></tr></tbody></table></div></details></td></tr></tbody></table></td></tr><tr><td>Spans</td><td><table><thead><tr><th><i>index</i></th><th>value</th></tr></thead><tbody><tr><td>0</td><td><details class=\"dni-treeview\"><summary><span class=\"dni-code-hint\"><code>Index: 759, Length: 6</code></span></summary><div><table><thead><tr></tr></thead><tbody><tr><td>Index</td><td>759</td></tr><tr><td>Length</td><td>6</td></tr></tbody></table></div></details></td></tr></tbody></table></td></tr></tbody></table></div></details></td></tr><tr><td>6</td><td><details class=\"dni-treeview\"><summary><span class=\"dni-code-hint\"><code>Azure.AI.FormRecognizer.DocumentAnalysis.DocumentTableCell</code></span></summary><div><table><thead><tr></tr></thead><tbody><tr><td>Kind</td><td><details class=\"dni-treeview\"><summary><span class=\"dni-code-hint\"><code>content</code></span></summary><div><table><thead><tr></tr></thead><tbody></tbody></table></div></details></td></tr><tr><td>RowSpan</td><td><div class=\"dni-plaintext\"><pre>1</pre></div></td></tr><tr><td>ColumnSpan</td><td><div class=\"dni-plaintext\"><pre>1</pre></div></td></tr><tr><td>RowIndex</td><td><div class=\"dni-plaintext\"><pre>2</pre></div></td></tr><tr><td>ColumnIndex</td><td><div class=\"dni-plaintext\"><pre>0</pre></div></td></tr><tr><td>Content</td><td><div class=\"dni-plaintext\"><pre>2.125% Notes due 2021</pre></div></td></tr><tr><td>BoundingRegions</td><td><table><thead><tr><th><i>index</i></th><th>value</th></tr></thead><tbody><tr><td>0</td><td><details class=\"dni-treeview\"><summary><span class=\"dni-code-hint\"><code>Page: 1, Polygon: {X=0.5561, Y=5.2997},{X=3.8728, Y=5.2997},{X=3.8801, Y=5.4537},{X=0.5561, Y=5.4537}</code></span></summary><div><table><thead><tr></tr></thead><tbody><tr><td>PageNumber</td><td>1</td></tr><tr><td>BoundingPolygon</td><td>[ {X=0.5561, Y=5.2997}, {X=3.8728, Y=5.2997}, {X=3.8801, Y=5.4537}, {X=0.5561, Y=5.4537} ]</td></tr></tbody></table></div></details></td></tr></tbody></table></td></tr><tr><td>Spans</td><td><table><thead><tr><th><i>index</i></th><th>value</th></tr></thead><tbody><tr><td>0</td><td><details class=\"dni-treeview\"><summary><span class=\"dni-code-hint\"><code>Index: 766, Length: 21</code></span></summary><div><table><thead><tr></tr></thead><tbody><tr><td>Index</td><td>766</td></tr><tr><td>Length</td><td>21</td></tr></tbody></table></div></details></td></tr></tbody></table></td></tr></tbody></table></div></details></td></tr><tr><td>7</td><td><details class=\"dni-treeview\"><summary><span class=\"dni-code-hint\"><code>Azure.AI.FormRecognizer.DocumentAnalysis.DocumentTableCell</code></span></summary><div><table><thead><tr></tr></thead><tbody><tr><td>Kind</td><td><details class=\"dni-treeview\"><summary><span class=\"dni-code-hint\"><code>content</code></span></summary><div><table><thead><tr></tr></thead><tbody></tbody></table></div></details></td></tr><tr><td>RowSpan</td><td><div class=\"dni-plaintext\"><pre>1</pre></div></td></tr><tr><td>ColumnSpan</td><td><div class=\"dni-plaintext\"><pre>1</pre></div></td></tr><tr><td>RowIndex</td><td><div class=\"dni-plaintext\"><pre>2</pre></div></td></tr><tr><td>ColumnIndex</td><td><div class=\"dni-plaintext\"><pre>1</pre></div></td></tr><tr><td>Content</td><td><div class=\"dni-plaintext\"><pre>MSFT</pre></div></td></tr><tr><td>BoundingRegions</td><td><table><thead><tr><th><i>index</i></th><th>value</th></tr></thead><tbody><tr><td>0</td><td><details class=\"dni-treeview\"><summary><span class=\"dni-code-hint\"><code>Page: 1, Polygon: {X=3.8728, Y=5.2997},{X=5.3883, Y=5.2997},{X=5.3883, Y=5.4537},{X=3.8801, Y=5.4537}</code></span></summary><div><table><thead><tr></tr></thead><tbody><tr><td>PageNumber</td><td>1</td></tr><tr><td>BoundingPolygon</td><td>[ {X=3.8728, Y=5.2997}, {X=5.3883, Y=5.2997}, {X=5.3883, Y=5.4537}, {X=3.8801, Y=5.4537} ]</td></tr></tbody></table></div></details></td></tr></tbody></table></td></tr><tr><td>Spans</td><td><table><thead><tr><th><i>index</i></th><th>value</th></tr></thead><tbody><tr><td>0</td><td><details class=\"dni-treeview\"><summary><span class=\"dni-code-hint\"><code>Index: 788, Length: 4</code></span></summary><div><table><thead><tr></tr></thead><tbody><tr><td>Index</td><td>788</td></tr><tr><td>Length</td><td>4</td></tr></tbody></table></div></details></td></tr></tbody></table></td></tr></tbody></table></div></details></td></tr><tr><td>8</td><td><details class=\"dni-treeview\"><summary><span class=\"dni-code-hint\"><code>Azure.AI.FormRecognizer.DocumentAnalysis.DocumentTableCell</code></span></summary><div><table><thead><tr></tr></thead><tbody><tr><td>Kind</td><td><details class=\"dni-treeview\"><summary><span class=\"dni-code-hint\"><code>content</code></span></summary><div><table><thead><tr></tr></thead><tbody></tbody></table></div></details></td></tr><tr><td>RowSpan</td><td><div class=\"dni-plaintext\"><pre>1</pre></div></td></tr><tr><td>ColumnSpan</td><td><div class=\"dni-plaintext\"><pre>1</pre></div></td></tr><tr><td>RowIndex</td><td><div class=\"dni-plaintext\"><pre>2</pre></div></td></tr><tr><td>ColumnIndex</td><td><div class=\"dni-plaintext\"><pre>2</pre></div></td></tr><tr><td>Content</td><td><div class=\"dni-plaintext\"><pre>NASDAQ</pre></div></td></tr><tr><td>BoundingRegions</td><td><table><thead><tr><th><i>index</i></th><th>value</th></tr></thead><tbody><tr><td>0</td><td><details class=\"dni-treeview\"><summary><span class=\"dni-code-hint\"><code>Page: 1, Polygon: {X=5.3883, Y=5.2997},{X=7.7019, Y=5.2997},{X=7.7019, Y=5.4537},{X=5.3883, Y=5.4537}</code></span></summary><div><table><thead><tr></tr></thead><tbody><tr><td>PageNumber</td><td>1</td></tr><tr><td>BoundingPolygon</td><td>[ {X=5.3883, Y=5.2997}, {X=7.7019, Y=5.2997}, {X=7.7019, Y=5.4537}, {X=5.3883, Y=5.4537} ]</td></tr></tbody></table></div></details></td></tr></tbody></table></td></tr><tr><td>Spans</td><td><table><thead><tr><th><i>index</i></th><th>value</th></tr></thead><tbody><tr><td>0</td><td><details class=\"dni-treeview\"><summary><span class=\"dni-code-hint\"><code>Index: 793, Length: 6</code></span></summary><div><table><thead><tr></tr></thead><tbody><tr><td>Index</td><td>793</td></tr><tr><td>Length</td><td>6</td></tr></tbody></table></div></details></td></tr></tbody></table></td></tr></tbody></table></div></details></td></tr><tr><td>9</td><td><details class=\"dni-treeview\"><summary><span class=\"dni-code-hint\"><code>Azure.AI.FormRecognizer.DocumentAnalysis.DocumentTableCell</code></span></summary><div><table><thead><tr></tr></thead><tbody><tr><td>Kind</td><td><details class=\"dni-treeview\"><summary><span class=\"dni-code-hint\"><code>content</code></span></summary><div><table><thead><tr></tr></thead><tbody></tbody></table></div></details></td></tr><tr><td>RowSpan</td><td><div class=\"dni-plaintext\"><pre>1</pre></div></td></tr><tr><td>ColumnSpan</td><td><div class=\"dni-plaintext\"><pre>1</pre></div></td></tr><tr><td>RowIndex</td><td><div class=\"dni-plaintext\"><pre>3</pre></div></td></tr><tr><td>ColumnIndex</td><td><div class=\"dni-plaintext\"><pre>0</pre></div></td></tr><tr><td>Content</td><td><div class=\"dni-plaintext\"><pre>3.125% Notes due 2028</pre></div></td></tr><tr><td>BoundingRegions</td><td><table><thead><tr><th><i>index</i></th><th>value</th></tr></thead><tbody><tr><td>0</td><td><details class=\"dni-treeview\"><summary><span class=\"dni-code-hint\"><code>Page: 1, Polygon: {X=0.5561, Y=5.4537},{X=3.8801, Y=5.4537},{X=3.8801, Y=5.615},{X=0.5561, Y=5.615}</code></span></summary><div><table><thead><tr></tr></thead><tbody><tr><td>PageNumber</td><td>1</td></tr><tr><td>BoundingPolygon</td><td>[ {X=0.5561, Y=5.4537}, {X=3.8801, Y=5.4537}, {X=3.8801, Y=5.615}, {X=0.5561, Y=5.615} ]</td></tr></tbody></table></div></details></td></tr></tbody></table></td></tr><tr><td>Spans</td><td><table><thead><tr><th><i>index</i></th><th>value</th></tr></thead><tbody><tr><td>0</td><td><details class=\"dni-treeview\"><summary><span class=\"dni-code-hint\"><code>Index: 800, Length: 21</code></span></summary><div><table><thead><tr></tr></thead><tbody><tr><td>Index</td><td>800</td></tr><tr><td>Length</td><td>21</td></tr></tbody></table></div></details></td></tr></tbody></table></td></tr></tbody></table></div></details></td></tr><tr><td>10</td><td><details class=\"dni-treeview\"><summary><span class=\"dni-code-hint\"><code>Azure.AI.FormRecognizer.DocumentAnalysis.DocumentTableCell</code></span></summary><div><table><thead><tr></tr></thead><tbody><tr><td>Kind</td><td><details class=\"dni-treeview\"><summary><span class=\"dni-code-hint\"><code>content</code></span></summary><div><table><thead><tr></tr></thead><tbody></tbody></table></div></details></td></tr><tr><td>RowSpan</td><td><div class=\"dni-plaintext\"><pre>1</pre></div></td></tr><tr><td>ColumnSpan</td><td><div class=\"dni-plaintext\"><pre>1</pre></div></td></tr><tr><td>RowIndex</td><td><div class=\"dni-plaintext\"><pre>3</pre></div></td></tr><tr><td>ColumnIndex</td><td><div class=\"dni-plaintext\"><pre>1</pre></div></td></tr><tr><td>Content</td><td><div class=\"dni-plaintext\"><pre>MSFT</pre></div></td></tr><tr><td>BoundingRegions</td><td><table><thead><tr><th><i>index</i></th><th>value</th></tr></thead><tbody><tr><td>0</td><td><details class=\"dni-treeview\"><summary><span class=\"dni-code-hint\"><code>Page: 1, Polygon: {X=3.8801, Y=5.4537},{X=5.3883, Y=5.4537},{X=5.3883, Y=5.615},{X=3.8801, Y=5.615}</code></span></summary><div><table><thead><tr></tr></thead><tbody><tr><td>PageNumber</td><td>1</td></tr><tr><td>BoundingPolygon</td><td>[ {X=3.8801, Y=5.4537}, {X=5.3883, Y=5.4537}, {X=5.3883, Y=5.615}, {X=3.8801, Y=5.615} ]</td></tr></tbody></table></div></details></td></tr></tbody></table></td></tr><tr><td>Spans</td><td><table><thead><tr><th><i>index</i></th><th>value</th></tr></thead><tbody><tr><td>0</td><td><details class=\"dni-treeview\"><summary><span class=\"dni-code-hint\"><code>Index: 822, Length: 4</code></span></summary><div><table><thead><tr></tr></thead><tbody><tr><td>Index</td><td>822</td></tr><tr><td>Length</td><td>4</td></tr></tbody></table></div></details></td></tr></tbody></table></td></tr></tbody></table></div></details></td></tr><tr><td>11</td><td><details class=\"dni-treeview\"><summary><span class=\"dni-code-hint\"><code>Azure.AI.FormRecognizer.DocumentAnalysis.DocumentTableCell</code></span></summary><div><table><thead><tr></tr></thead><tbody><tr><td>Kind</td><td><details class=\"dni-treeview\"><summary><span class=\"dni-code-hint\"><code>content</code></span></summary><div><table><thead><tr></tr></thead><tbody></tbody></table></div></details></td></tr><tr><td>RowSpan</td><td><div class=\"dni-plaintext\"><pre>1</pre></div></td></tr><tr><td>ColumnSpan</td><td><div class=\"dni-plaintext\"><pre>1</pre></div></td></tr><tr><td>RowIndex</td><td><div class=\"dni-plaintext\"><pre>3</pre></div></td></tr><tr><td>ColumnIndex</td><td><div class=\"dni-plaintext\"><pre>2</pre></div></td></tr><tr><td>Content</td><td><div class=\"dni-plaintext\"><pre>NASDAQ</pre></div></td></tr><tr><td>BoundingRegions</td><td><table><thead><tr><th><i>index</i></th><th>value</th></tr></thead><tbody><tr><td>0</td><td><details class=\"dni-treeview\"><summary><span class=\"dni-code-hint\"><code>Page: 1, Polygon: {X=5.3883, Y=5.4537},{X=7.7019, Y=5.4537},{X=7.7019, Y=5.615},{X=5.3883, Y=5.615}</code></span></summary><div><table><thead><tr></tr></thead><tbody><tr><td>PageNumber</td><td>1</td></tr><tr><td>BoundingPolygon</td><td>[ {X=5.3883, Y=5.4537}, {X=7.7019, Y=5.4537}, {X=7.7019, Y=5.615}, {X=5.3883, Y=5.615} ]</td></tr></tbody></table></div></details></td></tr></tbody></table></td></tr><tr><td>Spans</td><td><table><thead><tr><th><i>index</i></th><th>value</th></tr></thead><tbody><tr><td>0</td><td><details class=\"dni-treeview\"><summary><span class=\"dni-code-hint\"><code>Index: 827, Length: 6</code></span></summary><div><table><thead><tr></tr></thead><tbody><tr><td>Index</td><td>827</td></tr><tr><td>Length</td><td>6</td></tr></tbody></table></div></details></td></tr></tbody></table></td></tr></tbody></table></div></details></td></tr><tr><td>12</td><td><details class=\"dni-treeview\"><summary><span class=\"dni-code-hint\"><code>Azure.AI.FormRecognizer.DocumentAnalysis.DocumentTableCell</code></span></summary><div><table><thead><tr></tr></thead><tbody><tr><td>Kind</td><td><details class=\"dni-treeview\"><summary><span class=\"dni-code-hint\"><code>content</code></span></summary><div><table><thead><tr></tr></thead><tbody></tbody></table></div></details></td></tr><tr><td>RowSpan</td><td><div class=\"dni-plaintext\"><pre>1</pre></div></td></tr><tr><td>ColumnSpan</td><td><div class=\"dni-plaintext\"><pre>1</pre></div></td></tr><tr><td>RowIndex</td><td><div class=\"dni-plaintext\"><pre>4</pre></div></td></tr><tr><td>ColumnIndex</td><td><div class=\"dni-plaintext\"><pre>0</pre></div></td></tr><tr><td>Content</td><td><div class=\"dni-plaintext\"><pre>2.625% Notes due 2033</pre></div></td></tr><tr><td>BoundingRegions</td><td><table><thead><tr><th><i>index</i></th><th>value</th></tr></thead><tbody><tr><td>0</td><td><details class=\"dni-treeview\"><summary><span class=\"dni-code-hint\"><code>Page: 1, Polygon: {X=0.5561, Y=5.615},{X=3.8801, Y=5.615},{X=3.8801, Y=5.7984},{X=0.5561, Y=5.8057}</code></span></summary><div><table><thead><tr></tr></thead><tbody><tr><td>PageNumber</td><td>1</td></tr><tr><td>BoundingPolygon</td><td>[ {X=0.5561, Y=5.615}, {X=3.8801, Y=5.615}, {X=3.8801, Y=5.7984}, {X=0.5561, Y=5.8057} ]</td></tr></tbody></table></div></details></td></tr></tbody></table></td></tr><tr><td>Spans</td><td><table><thead><tr><th><i>index</i></th><th>value</th></tr></thead><tbody><tr><td>0</td><td><details class=\"dni-treeview\"><summary><span class=\"dni-code-hint\"><code>Index: 834, Length: 21</code></span></summary><div><table><thead><tr></tr></thead><tbody><tr><td>Index</td><td>834</td></tr><tr><td>Length</td><td>21</td></tr></tbody></table></div></details></td></tr></tbody></table></td></tr></tbody></table></div></details></td></tr><tr><td>13</td><td><details class=\"dni-treeview\"><summary><span class=\"dni-code-hint\"><code>Azure.AI.FormRecognizer.DocumentAnalysis.DocumentTableCell</code></span></summary><div><table><thead><tr></tr></thead><tbody><tr><td>Kind</td><td><details class=\"dni-treeview\"><summary><span class=\"dni-code-hint\"><code>content</code></span></summary><div><table><thead><tr></tr></thead><tbody></tbody></table></div></details></td></tr><tr><td>RowSpan</td><td><div class=\"dni-plaintext\"><pre>1</pre></div></td></tr><tr><td>ColumnSpan</td><td><div class=\"dni-plaintext\"><pre>1</pre></div></td></tr><tr><td>RowIndex</td><td><div class=\"dni-plaintext\"><pre>4</pre></div></td></tr><tr><td>ColumnIndex</td><td><div class=\"dni-plaintext\"><pre>1</pre></div></td></tr><tr><td>Content</td><td><div class=\"dni-plaintext\"><pre>MSFT</pre></div></td></tr><tr><td>BoundingRegions</td><td><table><thead><tr><th><i>index</i></th><th>value</th></tr></thead><tbody><tr><td>0</td><td><details class=\"dni-treeview\"><summary><span class=\"dni-code-hint\"><code>Page: 1, Polygon: {X=3.8801, Y=5.615},{X=5.3883, Y=5.615},{X=5.3883, Y=5.7984},{X=3.8801, Y=5.7984}</code></span></summary><div><table><thead><tr></tr></thead><tbody><tr><td>PageNumber</td><td>1</td></tr><tr><td>BoundingPolygon</td><td>[ {X=3.8801, Y=5.615}, {X=5.3883, Y=5.615}, {X=5.3883, Y=5.7984}, {X=3.8801, Y=5.7984} ]</td></tr></tbody></table></div></details></td></tr></tbody></table></td></tr><tr><td>Spans</td><td><table><thead><tr><th><i>index</i></th><th>value</th></tr></thead><tbody><tr><td>0</td><td><details class=\"dni-treeview\"><summary><span class=\"dni-code-hint\"><code>Index: 856, Length: 4</code></span></summary><div><table><thead><tr></tr></thead><tbody><tr><td>Index</td><td>856</td></tr><tr><td>Length</td><td>4</td></tr></tbody></table></div></details></td></tr></tbody></table></td></tr></tbody></table></div></details></td></tr><tr><td>14</td><td><details class=\"dni-treeview\"><summary><span class=\"dni-code-hint\"><code>Azure.AI.FormRecognizer.DocumentAnalysis.DocumentTableCell</code></span></summary><div><table><thead><tr></tr></thead><tbody><tr><td>Kind</td><td><details class=\"dni-treeview\"><summary><span class=\"dni-code-hint\"><code>content</code></span></summary><div><table><thead><tr></tr></thead><tbody></tbody></table></div></details></td></tr><tr><td>RowSpan</td><td><div class=\"dni-plaintext\"><pre>1</pre></div></td></tr><tr><td>ColumnSpan</td><td><div class=\"dni-plaintext\"><pre>1</pre></div></td></tr><tr><td>RowIndex</td><td><div class=\"dni-plaintext\"><pre>4</pre></div></td></tr><tr><td>ColumnIndex</td><td><div class=\"dni-plaintext\"><pre>2</pre></div></td></tr><tr><td>Content</td><td><div class=\"dni-plaintext\"><pre>NASDAQ</pre></div></td></tr><tr><td>BoundingRegions</td><td><table><thead><tr><th><i>index</i></th><th>value</th></tr></thead><tbody><tr><td>0</td><td><details class=\"dni-treeview\"><summary><span class=\"dni-code-hint\"><code>Page: 1, Polygon: {X=5.3883, Y=5.615},{X=7.7019, Y=5.615},{X=7.7019, Y=5.7984},{X=5.3883, Y=5.7984}</code></span></summary><div><table><thead><tr></tr></thead><tbody><tr><td>PageNumber</td><td>1</td></tr><tr><td>BoundingPolygon</td><td>[ {X=5.3883, Y=5.615}, {X=7.7019, Y=5.615}, {X=7.7019, Y=5.7984}, {X=5.3883, Y=5.7984} ]</td></tr></tbody></table></div></details></td></tr></tbody></table></td></tr><tr><td>Spans</td><td><table><thead><tr><th><i>index</i></th><th>value</th></tr></thead><tbody><tr><td>0</td><td><details class=\"dni-treeview\"><summary><span class=\"dni-code-hint\"><code>Index: 861, Length: 6</code></span></summary><div><table><thead><tr></tr></thead><tbody><tr><td>Index</td><td>861</td></tr><tr><td>Length</td><td>6</td></tr></tbody></table></div></details></td></tr></tbody></table></td></tr></tbody></table></div></details></td></tr></tbody></table></td></tr><tr><td>BoundingRegions</td><td><table><thead><tr><th><i>index</i></th><th>value</th></tr></thead><tbody><tr><td>0</td><td><details class=\"dni-treeview\"><summary><span class=\"dni-code-hint\"><code>Page: 1, Polygon: {X=0.5809, Y=4.897},{X=7.7181, Y=4.8965},{X=7.7203, Y=5.8067},{X=0.5824, Y=5.8075}</code></span></summary><div><table><thead><tr></tr></thead><tbody><tr><td>PageNumber</td><td><div class=\"dni-plaintext\"><pre>1</pre></div></td></tr><tr><td>BoundingPolygon</td><td><table><thead><tr><th><i>index</i></th><th>value</th></tr></thead><tbody><tr><td>0</td><td><details class=\"dni-treeview\"><summary><span class=\"dni-code-hint\"><code>{X=0.5809, Y=4.897}</code></span></summary><div><table><thead><tr></tr></thead><tbody><tr><td>IsEmpty</td><td>False</td></tr><tr><td>X</td><td>0.5809</td></tr><tr><td>Y</td><td>4.897</td></tr></tbody></table></div></details></td></tr><tr><td>1</td><td><details class=\"dni-treeview\"><summary><span class=\"dni-code-hint\"><code>{X=7.7181, Y=4.8965}</code></span></summary><div><table><thead><tr></tr></thead><tbody><tr><td>IsEmpty</td><td>False</td></tr><tr><td>X</td><td>7.7181</td></tr><tr><td>Y</td><td>4.8965</td></tr></tbody></table></div></details></td></tr><tr><td>2</td><td><details class=\"dni-treeview\"><summary><span class=\"dni-code-hint\"><code>{X=7.7203, Y=5.8067}</code></span></summary><div><table><thead><tr></tr></thead><tbody><tr><td>IsEmpty</td><td>False</td></tr><tr><td>X</td><td>7.7203</td></tr><tr><td>Y</td><td>5.8067</td></tr></tbody></table></div></details></td></tr><tr><td>3</td><td><details class=\"dni-treeview\"><summary><span class=\"dni-code-hint\"><code>{X=0.5824, Y=5.8075}</code></span></summary><div><table><thead><tr></tr></thead><tbody><tr><td>IsEmpty</td><td>False</td></tr><tr><td>X</td><td>0.5824</td></tr><tr><td>Y</td><td>5.8075</td></tr></tbody></table></div></details></td></tr></tbody></table></td></tr></tbody></table></div></details></td></tr></tbody></table></td></tr><tr><td>Spans</td><td><table><thead><tr><th><i>index</i></th><th>value</th></tr></thead><tbody><tr><td>0</td><td><details class=\"dni-treeview\"><summary><span class=\"dni-code-hint\"><code>Index: 636, Length: 231</code></span></summary><div><table><thead><tr></tr></thead><tbody><tr><td>Index</td><td><div class=\"dni-plaintext\"><pre>636</pre></div></td></tr><tr><td>Length</td><td><div class=\"dni-plaintext\"><pre>231</pre></div></td></tr></tbody></table></div></details></td></tr></tbody></table></td></tr></tbody></table></div></details></td></tr><tr><td>1</td><td><details class=\"dni-treeview\"><summary><span class=\"dni-code-hint\"><code>Azure.AI.FormRecognizer.DocumentAnalysis.DocumentTable</code></span></summary><div><table><thead><tr></tr></thead><tbody><tr><td>RowCount</td><td><div class=\"dni-plaintext\"><pre>2</pre></div></td></tr><tr><td>ColumnCount</td><td><div class=\"dni-plaintext\"><pre>2</pre></div></td></tr><tr><td>Cells</td><td><table><thead><tr><th><i>index</i></th><th>value</th></tr></thead><tbody><tr><td>0</td><td><details class=\"dni-treeview\"><summary><span class=\"dni-code-hint\"><code>Azure.AI.FormRecognizer.DocumentAnalysis.DocumentTableCell</code></span></summary><div><table><thead><tr></tr></thead><tbody><tr><td>Kind</td><td><details class=\"dni-treeview\"><summary><span class=\"dni-code-hint\"><code>columnHeader</code></span></summary><div><table><thead><tr></tr></thead><tbody></tbody></table></div></details></td></tr><tr><td>RowSpan</td><td><div class=\"dni-plaintext\"><pre>1</pre></div></td></tr><tr><td>ColumnSpan</td><td><div class=\"dni-plaintext\"><pre>1</pre></div></td></tr><tr><td>RowIndex</td><td><div class=\"dni-plaintext\"><pre>0</pre></div></td></tr><tr><td>ColumnIndex</td><td><div class=\"dni-plaintext\"><pre>0</pre></div></td></tr><tr><td>Content</td><td><div class=\"dni-plaintext\"><pre>Class</pre></div></td></tr><tr><td>BoundingRegions</td><td><table><thead><tr><th><i>index</i></th><th>value</th></tr></thead><tbody><tr><td>0</td><td><details class=\"dni-treeview\"><summary><span class=\"dni-code-hint\"><code>Page: 1, Polygon: {X=0.5748, Y=9.0407},{X=4.7136, Y=9.0407},{X=4.721, Y=9.2489},{X=0.5748, Y=9.2415}</code></span></summary><div><table><thead><tr></tr></thead><tbody><tr><td>PageNumber</td><td>1</td></tr><tr><td>BoundingPolygon</td><td>[ {X=0.5748, Y=9.0407}, {X=4.7136, Y=9.0407}, {X=4.721, Y=9.2489}, {X=0.5748, Y=9.2415} ]</td></tr></tbody></table></div></details></td></tr></tbody></table></td></tr><tr><td>Spans</td><td><table><thead><tr><th><i>index</i></th><th>value</th></tr></thead><tbody><tr><td>0</td><td><details class=\"dni-treeview\"><summary><span class=\"dni-code-hint\"><code>Index: 2708, Length: 5</code></span></summary><div><table><thead><tr></tr></thead><tbody><tr><td>Index</td><td>2708</td></tr><tr><td>Length</td><td>5</td></tr></tbody></table></div></details></td></tr></tbody></table></td></tr></tbody></table></div></details></td></tr><tr><td>1</td><td><details class=\"dni-treeview\"><summary><span class=\"dni-code-hint\"><code>Azure.AI.FormRecognizer.DocumentAnalysis.DocumentTableCell</code></span></summary><div><table><thead><tr></tr></thead><tbody><tr><td>Kind</td><td><details class=\"dni-treeview\"><summary><span class=\"dni-code-hint\"><code>columnHeader</code></span></summary><div><table><thead><tr></tr></thead><tbody></tbody></table></div></details></td></tr><tr><td>RowSpan</td><td><div class=\"dni-plaintext\"><pre>1</pre></div></td></tr><tr><td>ColumnSpan</td><td><div class=\"dni-plaintext\"><pre>1</pre></div></td></tr><tr><td>RowIndex</td><td><div class=\"dni-plaintext\"><pre>0</pre></div></td></tr><tr><td>ColumnIndex</td><td><div class=\"dni-plaintext\"><pre>1</pre></div></td></tr><tr><td>Content</td><td><div class=\"dni-plaintext\"><pre>Outstanding as of April 24, 2020</pre></div></td></tr><tr><td>BoundingRegions</td><td><table><thead><tr><th><i>index</i></th><th>value</th></tr></thead><tbody><tr><td>0</td><td><details class=\"dni-treeview\"><summary><span class=\"dni-code-hint\"><code>Page: 1, Polygon: {X=4.7136, Y=9.0407},{X=7.8288, Y=9.0407},{X=7.8363, Y=9.2489},{X=4.721, Y=9.2489}</code></span></summary><div><table><thead><tr></tr></thead><tbody><tr><td>PageNumber</td><td>1</td></tr><tr><td>BoundingPolygon</td><td>[ {X=4.7136, Y=9.0407}, {X=7.8288, Y=9.0407}, {X=7.8363, Y=9.2489}, {X=4.721, Y=9.2489} ]</td></tr></tbody></table></div></details></td></tr></tbody></table></td></tr><tr><td>Spans</td><td><table><thead><tr><th><i>index</i></th><th>value</th></tr></thead><tbody><tr><td>0</td><td><details class=\"dni-treeview\"><summary><span class=\"dni-code-hint\"><code>Index: 2714, Length: 32</code></span></summary><div><table><thead><tr></tr></thead><tbody><tr><td>Index</td><td>2714</td></tr><tr><td>Length</td><td>32</td></tr></tbody></table></div></details></td></tr></tbody></table></td></tr></tbody></table></div></details></td></tr><tr><td>2</td><td><details class=\"dni-treeview\"><summary><span class=\"dni-code-hint\"><code>Azure.AI.FormRecognizer.DocumentAnalysis.DocumentTableCell</code></span></summary><div><table><thead><tr></tr></thead><tbody><tr><td>Kind</td><td><details class=\"dni-treeview\"><summary><span class=\"dni-code-hint\"><code>content</code></span></summary><div><table><thead><tr></tr></thead><tbody></tbody></table></div></details></td></tr><tr><td>RowSpan</td><td><div class=\"dni-plaintext\"><pre>1</pre></div></td></tr><tr><td>ColumnSpan</td><td><div class=\"dni-plaintext\"><pre>1</pre></div></td></tr><tr><td>RowIndex</td><td><div class=\"dni-plaintext\"><pre>1</pre></div></td></tr><tr><td>ColumnIndex</td><td><div class=\"dni-plaintext\"><pre>0</pre></div></td></tr><tr><td>Content</td><td><div class=\"dni-plaintext\"><pre>Common Stock, $0.00000625 par value per share</pre></div></td></tr><tr><td>BoundingRegions</td><td><table><thead><tr><th><i>index</i></th><th>value</th></tr></thead><tbody><tr><td>0</td><td><details class=\"dni-treeview\"><summary><span class=\"dni-code-hint\"><code>Page: 1, Polygon: {X=0.5748, Y=9.2415},{X=4.721, Y=9.2489},{X=4.7285, Y=9.4869},{X=0.5748, Y=9.4795}</code></span></summary><div><table><thead><tr></tr></thead><tbody><tr><td>PageNumber</td><td>1</td></tr><tr><td>BoundingPolygon</td><td>[ {X=0.5748, Y=9.2415}, {X=4.721, Y=9.2489}, {X=4.7285, Y=9.4869}, {X=0.5748, Y=9.4795} ]</td></tr></tbody></table></div></details></td></tr></tbody></table></td></tr><tr><td>Spans</td><td><table><thead><tr><th><i>index</i></th><th>value</th></tr></thead><tbody><tr><td>0</td><td><details class=\"dni-treeview\"><summary><span class=\"dni-code-hint\"><code>Index: 2747, Length: 45</code></span></summary><div><table><thead><tr></tr></thead><tbody><tr><td>Index</td><td>2747</td></tr><tr><td>Length</td><td>45</td></tr></tbody></table></div></details></td></tr></tbody></table></td></tr></tbody></table></div></details></td></tr><tr><td>3</td><td><details class=\"dni-treeview\"><summary><span class=\"dni-code-hint\"><code>Azure.AI.FormRecognizer.DocumentAnalysis.DocumentTableCell</code></span></summary><div><table><thead><tr></tr></thead><tbody><tr><td>Kind</td><td><details class=\"dni-treeview\"><summary><span class=\"dni-code-hint\"><code>content</code></span></summary><div><table><thead><tr></tr></thead><tbody></tbody></table></div></details></td></tr><tr><td>RowSpan</td><td><div class=\"dni-plaintext\"><pre>1</pre></div></td></tr><tr><td>ColumnSpan</td><td><div class=\"dni-plaintext\"><pre>1</pre></div></td></tr><tr><td>RowIndex</td><td><div class=\"dni-plaintext\"><pre>1</pre></div></td></tr><tr><td>ColumnIndex</td><td><div class=\"dni-plaintext\"><pre>1</pre></div></td></tr><tr><td>Content</td><td><div class=\"dni-plaintext\"><pre>7,583,440,247 shares</pre></div></td></tr><tr><td>BoundingRegions</td><td><table><thead><tr><th><i>index</i></th><th>value</th></tr></thead><tbody><tr><td>0</td><td><details class=\"dni-treeview\"><summary><span class=\"dni-code-hint\"><code>Page: 1, Polygon: {X=4.721, Y=9.2489},{X=7.8363, Y=9.2489},{X=7.8438, Y=9.4869},{X=4.7285, Y=9.4869}</code></span></summary><div><table><thead><tr></tr></thead><tbody><tr><td>PageNumber</td><td>1</td></tr><tr><td>BoundingPolygon</td><td>[ {X=4.721, Y=9.2489}, {X=7.8363, Y=9.2489}, {X=7.8438, Y=9.4869}, {X=4.7285, Y=9.4869} ]</td></tr></tbody></table></div></details></td></tr></tbody></table></td></tr><tr><td>Spans</td><td><table><thead><tr><th><i>index</i></th><th>value</th></tr></thead><tbody><tr><td>0</td><td><details class=\"dni-treeview\"><summary><span class=\"dni-code-hint\"><code>Index: 2793, Length: 20</code></span></summary><div><table><thead><tr></tr></thead><tbody><tr><td>Index</td><td>2793</td></tr><tr><td>Length</td><td>20</td></tr></tbody></table></div></details></td></tr></tbody></table></td></tr></tbody></table></div></details></td></tr></tbody></table></td></tr><tr><td>BoundingRegions</td><td><table><thead><tr><th><i>index</i></th><th>value</th></tr></thead><tbody><tr><td>0</td><td><details class=\"dni-treeview\"><summary><span class=\"dni-code-hint\"><code>Page: 1, Polygon: {X=0.5989, Y=9.0458},{X=7.8807, Y=9.0475},{X=7.8833, Y=9.5126},{X=0.6003, Y=9.511}</code></span></summary><div><table><thead><tr></tr></thead><tbody><tr><td>PageNumber</td><td><div class=\"dni-plaintext\"><pre>1</pre></div></td></tr><tr><td>BoundingPolygon</td><td><table><thead><tr><th><i>index</i></th><th>value</th></tr></thead><tbody><tr><td>0</td><td><details class=\"dni-treeview\"><summary><span class=\"dni-code-hint\"><code>{X=0.5989, Y=9.0458}</code></span></summary><div><table><thead><tr></tr></thead><tbody><tr><td>IsEmpty</td><td>False</td></tr><tr><td>X</td><td>0.5989</td></tr><tr><td>Y</td><td>9.0458</td></tr></tbody></table></div></details></td></tr><tr><td>1</td><td><details class=\"dni-treeview\"><summary><span class=\"dni-code-hint\"><code>{X=7.8807, Y=9.0475}</code></span></summary><div><table><thead><tr></tr></thead><tbody><tr><td>IsEmpty</td><td>False</td></tr><tr><td>X</td><td>7.8807</td></tr><tr><td>Y</td><td>9.0475</td></tr></tbody></table></div></details></td></tr><tr><td>2</td><td><details class=\"dni-treeview\"><summary><span class=\"dni-code-hint\"><code>{X=7.8833, Y=9.5126}</code></span></summary><div><table><thead><tr></tr></thead><tbody><tr><td>IsEmpty</td><td>False</td></tr><tr><td>X</td><td>7.8833</td></tr><tr><td>Y</td><td>9.5126</td></tr></tbody></table></div></details></td></tr><tr><td>3</td><td><details class=\"dni-treeview\"><summary><span class=\"dni-code-hint\"><code>{X=0.6003, Y=9.511}</code></span></summary><div><table><thead><tr></tr></thead><tbody><tr><td>IsEmpty</td><td>False</td></tr><tr><td>X</td><td>0.6003</td></tr><tr><td>Y</td><td>9.511</td></tr></tbody></table></div></details></td></tr></tbody></table></td></tr></tbody></table></div></details></td></tr></tbody></table></td></tr><tr><td>Spans</td><td><table><thead><tr><th><i>index</i></th><th>value</th></tr></thead><tbody><tr><td>0</td><td><details class=\"dni-treeview\"><summary><span class=\"dni-code-hint\"><code>Index: 2708, Length: 105</code></span></summary><div><table><thead><tr></tr></thead><tbody><tr><td>Index</td><td><div class=\"dni-plaintext\"><pre>2708</pre></div></td></tr><tr><td>Length</td><td><div class=\"dni-plaintext\"><pre>105</pre></div></td></tr></tbody></table></div></details></td></tr></tbody></table></td></tr></tbody></table></div></details></td></tr></tbody></table><style>\r\n",
       ".dni-code-hint {\r\n",
       "    font-style: italic;\r\n",
       "    overflow: hidden;\r\n",
       "    white-space: nowrap;\r\n",
       "}\r\n",
       ".dni-treeview {\r\n",
       "    white-space: nowrap;\r\n",
       "}\r\n",
       ".dni-treeview td {\r\n",
       "    vertical-align: top;\r\n",
       "    text-align: start;\r\n",
       "}\r\n",
       "details.dni-treeview {\r\n",
       "    padding-left: 1em;\r\n",
       "}\r\n",
       "table td {\r\n",
       "    text-align: start;\r\n",
       "}\r\n",
       "table tr { \r\n",
       "    vertical-align: top; \r\n",
       "    margin: 0em 0px;\r\n",
       "}\r\n",
       "table tr td pre \r\n",
       "{ \r\n",
       "    vertical-align: top !important; \r\n",
       "    margin: 0em 0px !important;\r\n",
       "} \r\n",
       "table th {\r\n",
       "    text-align: start;\r\n",
       "}\r\n",
       "</style>"
      ]
     },
     "metadata": {},
     "output_type": "display_data"
    }
   ],
   "source": [
    "analysisOperation.Value.Tables"
   ]
  },
  {
   "cell_type": "markdown",
   "metadata": {},
   "source": [
    "## Display extracted tables"
   ]
  },
  {
   "cell_type": "code",
   "execution_count": 8,
   "metadata": {
    "dotnet_interactive": {
     "language": "csharp"
    },
    "polyglot_notebook": {
     "kernelName": "csharp"
    },
    "vscode": {
     "languageId": "polyglot-notebook"
    }
   },
   "outputs": [
    {
     "name": "stdout",
     "output_type": "stream",
     "text": [
      "  Table 0 has 5 rows and 3 columns.\n",
      "    Cell (0, 0) has kind 'columnHeader' and content: 'Title of each class'.\n",
      "    Cell (0, 1) has kind 'columnHeader' and content: 'Trading Symbol'.\n",
      "    Cell (0, 2) has kind 'columnHeader' and content: 'Name of exchange on which registered'.\n",
      "    Cell (1, 0) has kind 'content' and content: 'Common stock, $0.00000625 par value per share'.\n",
      "    Cell (1, 1) has kind 'content' and content: 'MSFT'.\n",
      "    Cell (1, 2) has kind 'content' and content: 'NASDAQ'.\n",
      "    Cell (2, 0) has kind 'content' and content: '2.125% Notes due 2021'.\n",
      "    Cell (2, 1) has kind 'content' and content: 'MSFT'.\n",
      "    Cell (2, 2) has kind 'content' and content: 'NASDAQ'.\n",
      "    Cell (3, 0) has kind 'content' and content: '3.125% Notes due 2028'.\n",
      "    Cell (3, 1) has kind 'content' and content: 'MSFT'.\n",
      "    Cell (3, 2) has kind 'content' and content: 'NASDAQ'.\n",
      "    Cell (4, 0) has kind 'content' and content: '2.625% Notes due 2033'.\n",
      "    Cell (4, 1) has kind 'content' and content: 'MSFT'.\n",
      "    Cell (4, 2) has kind 'content' and content: 'NASDAQ'.\n",
      "  Table 1 has 2 rows and 2 columns.\n",
      "    Cell (0, 0) has kind 'columnHeader' and content: 'Class'.\n",
      "    Cell (0, 1) has kind 'columnHeader' and content: 'Outstanding as of April 24, 2020'.\n",
      "    Cell (1, 0) has kind 'content' and content: 'Common Stock, $0.00000625 par value per share'.\n",
      "    Cell (1, 1) has kind 'content' and content: '7,583,440,247 shares'.\n"
     ]
    }
   ],
   "source": [
    "for (int i = 0; i < analysisOperation.Value.Tables.Count; i++)\n",
    "{\n",
    "    DocumentTable table = analysisOperation.Value.Tables[i];\n",
    "    Console.WriteLine($\"  Table {i} has {table.RowCount} rows and {table.ColumnCount} columns.\");\n",
    "\n",
    "    foreach (DocumentTableCell cell in table.Cells)\n",
    "    {\n",
    "        Console.WriteLine($\"    Cell ({cell.RowIndex}, {cell.ColumnIndex}) has kind '{cell.Kind}' and content: '{cell.Content}'.\");\n",
    "    }\n",
    "}"
   ]
  }
 ],
 "metadata": {
  "language_info": {
   "name": "csharp"
  },
  "orig_nbformat": 4
 },
 "nbformat": 4,
 "nbformat_minor": 2
}
