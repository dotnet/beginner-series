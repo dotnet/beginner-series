{
 "cells": [
  {
   "cell_type": "markdown",
   "metadata": {},
   "source": [
    "# Adding context to your prompts - Retrieval Augmented Generation (RAG)"
   ]
  },
  {
   "cell_type": "markdown",
   "metadata": {},
   "source": [
    "## Install OpenAI .NET SDK & other NuGet packages"
   ]
  },
  {
   "cell_type": "code",
   "execution_count": 9,
   "metadata": {
    "dotnet_interactive": {
     "language": "csharp"
    },
    "polyglot_notebook": {
     "kernelName": "csharp"
    },
    "vscode": {
     "languageId": "polyglot-notebook"
    }
   },
   "outputs": [
    {
     "data": {
      "text/html": [
       "<div><div></div><div></div><div><strong>Installed Packages</strong><ul><li><span>Azure.AI.OpenAI, 1.0.0-beta.15</span></li><li><span>Microsoft.DotNet.Interactive, 1.0.0-beta.24164.1</span></li><li><span>System.Numerics.Tensors, 8.0.0</span></li></ul></div></div>"
      ]
     },
     "metadata": {},
     "output_type": "display_data"
    }
   ],
   "source": [
    "#r \"nuget: Azure.AI.OpenAI, 1.0.0-beta.15\"\n",
    "#r \"nuget: Microsoft.DotNet.Interactive, 1.0.0-beta.24164.1\"\n",
    "#r \"nuget: System.Numerics.Tensors, 8.0.0\""
   ]
  },
  {
   "cell_type": "code",
   "execution_count": 10,
   "metadata": {
    "dotnet_interactive": {
     "language": "csharp"
    },
    "polyglot_notebook": {
     "kernelName": "csharp"
    },
    "vscode": {
     "languageId": "polyglot-notebook"
    }
   },
   "outputs": [],
   "source": [
    "using System.Collections.Generic;\n",
    "using System.IO;\n",
    "using System.Linq;\n",
    "using System.Text.Json;\n",
    "using Azure.AI.OpenAI;\n",
    "using Microsoft.DotNet.Interactive;\n",
    "using System.Numerics.Tensors;"
   ]
  },
  {
   "cell_type": "markdown",
   "metadata": {},
   "source": [
    "## Get Azure OpenAI Service credentials"
   ]
  },
  {
   "cell_type": "code",
   "execution_count": 11,
   "metadata": {
    "dotnet_interactive": {
     "language": "csharp"
    },
    "polyglot_notebook": {
     "kernelName": "csharp"
    },
    "vscode": {
     "languageId": "polyglot-notebook"
    }
   },
   "outputs": [],
   "source": [
    "var endpoint = Environment.GetEnvironmentVariable(\"AOAI_ENDPOINT\");\n",
    "var key = Environment.GetEnvironmentVariable(\"AOAI_KEY\");\n",
    "var deploymentId = Environment.GetEnvironmentVariable(\"AOAI_DEPLOYMENTID\");\n",
    "var embeddingDeploymentId = Environment.GetEnvironmentVariable(\"AOAI_EMBEDDINGS_DEPLOYMENTID\");"
   ]
  },
  {
   "cell_type": "markdown",
   "metadata": {},
   "source": [
    "## Configure OpenAI client"
   ]
  },
  {
   "cell_type": "code",
   "execution_count": 12,
   "metadata": {
    "dotnet_interactive": {
     "language": "csharp"
    },
    "polyglot_notebook": {
     "kernelName": "csharp"
    },
    "vscode": {
     "languageId": "polyglot-notebook"
    }
   },
   "outputs": [],
   "source": [
    "var client = new OpenAIClient(new Uri(endpoint), new Azure.AzureKeyCredential(key));"
   ]
  },
  {
   "cell_type": "markdown",
   "metadata": {},
   "source": [
    "## Define system prompt"
   ]
  },
  {
   "cell_type": "code",
   "execution_count": 13,
   "metadata": {
    "dotnet_interactive": {
     "language": "csharp"
    },
    "polyglot_notebook": {
     "kernelName": "csharp"
    },
    "vscode": {
     "languageId": "polyglot-notebook"
    }
   },
   "outputs": [],
   "source": [
    "var systemPrompt = \n",
    "    \"\"\"\n",
    "    You are an AI Assistant that helps user answer questions about their data. \n",
    "    \n",
    "    You have access to articles to help you answer questions. \n",
    "    \n",
    "    Use only the contents from these documents to answer questions. \n",
    "    \"\"\";"
   ]
  },
  {
   "cell_type": "markdown",
   "metadata": {},
   "source": [
    "## Define Data Objects"
   ]
  },
  {
   "cell_type": "code",
   "execution_count": 14,
   "metadata": {
    "dotnet_interactive": {
     "language": "csharp"
    },
    "polyglot_notebook": {
     "kernelName": "csharp"
    },
    "vscode": {
     "languageId": "polyglot-notebook"
    }
   },
   "outputs": [],
   "source": [
    "class Metadata\n",
    "{\n",
    "    public string Title {get;set;}\n",
    "    public string Text  {get;set;}\n",
    "    public long WikiId  {get;set;}\n",
    "    public int ParagraphId  {get;set;}\n",
    "}\n",
    "\n",
    "\n",
    "class Document\n",
    "{\n",
    "    public float[] Embedding {get;set;}\n",
    "    public Metadata Metadata {get;set;}\n",
    "}"
   ]
  },
  {
   "cell_type": "markdown",
   "metadata": {},
   "source": [
    "## Utility Functions"
   ]
  },
  {
   "cell_type": "code",
   "execution_count": 15,
   "metadata": {
    "dotnet_interactive": {
     "language": "csharp"
    },
    "polyglot_notebook": {
     "kernelName": "csharp"
    },
    "vscode": {
     "languageId": "polyglot-notebook"
    }
   },
   "outputs": [],
   "source": [
    "string FormatMessage(ChatRequestMessage m)\n",
    "{\n",
    "    if(m.Role == ChatRole.System)\n",
    "        return $\"System: {((ChatRequestSystemMessage)m).Content }\";\n",
    "    else if(m.Role == ChatRole.User)\n",
    "        return $\"User: {((ChatRequestUserMessage)m).Content}\";\n",
    "    else if(m.Role == ChatRole.Assistant)\n",
    "        return $\"Assistant: {((ChatRequestAssistantMessage)m).Content}\";\n",
    "    else\n",
    "        return m.ToString();\n",
    "}\n",
    "\n",
    "var RenderUserPrompt = (List<ChatRequestMessage> history, string[] documents, string query) => \n",
    "    {\n",
    "        var chatMessages = \n",
    "            history\n",
    "                .Select(FormatMessage)\n",
    "                .Select(x => $\"{x}\\n\")\n",
    "                .ToArray();\n",
    "\n",
    "        var sources = String.Join('\\n', documents);\n",
    "\n",
    "        var template = \n",
    "            $\"\"\"\n",
    "            ## Chat History\n",
    "\n",
    "            {String.Join('\\n',chatMessages)}\n",
    "\n",
    "            ## Sources\n",
    "\n",
    "            {sources}\n",
    "\n",
    "            ## Query\n",
    "            {query}\n",
    "            \"\"\";\n",
    "\n",
    "        return template;\n",
    "    };\n",
    "\n",
    "var GetTopKDocuments = (Document[] sources, float[] userQueryEmbedding, int k) => \n",
    "{\n",
    "    return sources\n",
    "        .Select(document => \n",
    "            {\n",
    "                var similarity = TensorPrimitives.CosineSimilarity(document.Embedding, userQueryEmbedding);\n",
    "                return (similarity, document);\n",
    "            })\n",
    "        .OrderByDescending(x => x.Item1)\n",
    "        .Take(k)\n",
    "        .Select(x => x.Item2)\n",
    "        .ToArray();\n",
    "};"
   ]
  },
  {
   "cell_type": "markdown",
   "metadata": {},
   "source": [
    "## Load data"
   ]
  },
  {
   "cell_type": "code",
   "execution_count": 16,
   "metadata": {
    "dotnet_interactive": {
     "language": "csharp"
    },
    "polyglot_notebook": {
     "kernelName": "csharp"
    },
    "vscode": {
     "languageId": "polyglot-notebook"
    }
   },
   "outputs": [],
   "source": [
    "var data = File.ReadAllText(\"../Data/embeddings.json\");\n",
    "var sources = JsonSerializer.Deserialize<Document[]>(data);"
   ]
  },
  {
   "cell_type": "markdown",
   "metadata": {},
   "source": [
    "## Display first data entry"
   ]
  },
  {
   "cell_type": "code",
   "execution_count": 17,
   "metadata": {
    "dotnet_interactive": {
     "language": "csharp"
    },
    "polyglot_notebook": {
     "kernelName": "csharp"
    },
    "vscode": {
     "languageId": "polyglot-notebook"
    }
   },
   "outputs": [
    {
     "data": {
      "text/html": [
       "<details open=\"open\" class=\"dni-treeview\"><summary><span class=\"dni-code-hint\"><code>Submission#13+Document</code></span></summary><div><table><thead><tr></tr></thead><tbody><tr><td>Embedding</td><td><div class=\"dni-plaintext\"><pre>[ 0.015050261, 0.009753172, 0.010801293, -0.031380862, -0.0005856453, -0.010518865, -0.004339973, -0.015000052, -0.016644409, 0.0016459262, 0.026535656, 0.014121388, -0.03469468, -0.01562767, -0.046393465, 0.0054037846, 0.018401738, 0.008039777, 0.007945634, -0.023573304 ... (1516 more) ]</pre></div></td></tr><tr><td>Metadata</td><td><details class=\"dni-treeview\"><summary><span class=\"dni-code-hint\"><code>Submission#13+Metadata</code></span></summary><div><table><thead><tr></tr></thead><tbody><tr><td>Title</td><td><div class=\"dni-plaintext\"><pre>24-hour clock</pre></div></td></tr><tr><td>Text</td><td><div class=\"dni-plaintext\"><pre>The 24-hour clock is a way of telling the time in which the day runs from midnight to midnight and is divided into 24 hours, numbered from 0 to 23. It does not use a.m. or p.m. This system is also referred to (only in the US and the English speaking parts of Canada) as military time or (only in the United Kingdom and now very rarely) as continental time. In some parts of the world, it is called railway time. Also, the international standard notation of time (ISO 8601) is based on this format.</pre></div></td></tr><tr><td>WikiId</td><td><div class=\"dni-plaintext\"><pre>9985</pre></div></td></tr><tr><td>ParagraphId</td><td><div class=\"dni-plaintext\"><pre>0</pre></div></td></tr></tbody></table></div></details></td></tr></tbody></table></div></details><style>\r\n",
       ".dni-code-hint {\r\n",
       "    font-style: italic;\r\n",
       "    overflow: hidden;\r\n",
       "    white-space: nowrap;\r\n",
       "}\r\n",
       ".dni-treeview {\r\n",
       "    white-space: nowrap;\r\n",
       "}\r\n",
       ".dni-treeview td {\r\n",
       "    vertical-align: top;\r\n",
       "    text-align: start;\r\n",
       "}\r\n",
       "details.dni-treeview {\r\n",
       "    padding-left: 1em;\r\n",
       "}\r\n",
       "table td {\r\n",
       "    text-align: start;\r\n",
       "}\r\n",
       "table tr { \r\n",
       "    vertical-align: top; \r\n",
       "    margin: 0em 0px;\r\n",
       "}\r\n",
       "table tr td pre \r\n",
       "{ \r\n",
       "    vertical-align: top !important; \r\n",
       "    margin: 0em 0px !important;\r\n",
       "} \r\n",
       "table th {\r\n",
       "    text-align: start;\r\n",
       "}\r\n",
       "</style>"
      ]
     },
     "metadata": {},
     "output_type": "display_data"
    }
   ],
   "source": [
    "sources.First()"
   ]
  },
  {
   "cell_type": "markdown",
   "metadata": {},
   "source": [
    "## Configure Chat Completion options"
   ]
  },
  {
   "cell_type": "code",
   "execution_count": 18,
   "metadata": {
    "dotnet_interactive": {
     "language": "csharp"
    },
    "polyglot_notebook": {
     "kernelName": "csharp"
    },
    "vscode": {
     "languageId": "polyglot-notebook"
    }
   },
   "outputs": [],
   "source": [
    "var options = new ChatCompletionsOptions\n",
    "{\n",
    "    DeploymentName=deploymentId,\n",
    "    MaxTokens=400,\n",
    "    Temperature=1f,\n",
    "    FrequencyPenalty=0.0f,\n",
    "    PresencePenalty=0.0f,\n",
    "    NucleusSamplingFactor = 0.95f // Top P\n",
    "};"
   ]
  },
  {
   "cell_type": "markdown",
   "metadata": {},
   "source": [
    "## Initialize chat history"
   ]
  },
  {
   "cell_type": "code",
   "execution_count": 19,
   "metadata": {
    "dotnet_interactive": {
     "language": "csharp"
    },
    "polyglot_notebook": {
     "kernelName": "csharp"
    },
    "vscode": {
     "languageId": "polyglot-notebook"
    }
   },
   "outputs": [],
   "source": [
    "var messages = new List<ChatRequestMessage>();\n",
    "var systemMessage = new ChatRequestSystemMessage(systemPrompt);\n",
    "messages.Add(systemMessage);\n",
    "options.Messages.Add(systemMessage);"
   ]
  },
  {
   "cell_type": "markdown",
   "metadata": {},
   "source": [
    "## Start chat"
   ]
  },
  {
   "cell_type": "code",
   "execution_count": 20,
   "metadata": {
    "dotnet_interactive": {
     "language": "csharp"
    },
    "polyglot_notebook": {
     "kernelName": "csharp"
    },
    "vscode": {
     "languageId": "polyglot-notebook"
    }
   },
   "outputs": [],
   "source": [
    "var chatting = true;"
   ]
  },
  {
   "cell_type": "code",
   "execution_count": 21,
   "metadata": {
    "dotnet_interactive": {
     "language": "csharp"
    },
    "polyglot_notebook": {
     "kernelName": "csharp"
    },
    "vscode": {
     "languageId": "polyglot-notebook"
    }
   },
   "outputs": [
    {
     "name": "stdout",
     "output_type": "stream",
     "text": [
      "System: You are an AI Assistant that helps user answer questions about their data. \n",
      "\n",
      "You have access to articles to help you answer questions. \n",
      "\n",
      "Use only the contents from these documents to answer questions. \n",
      "## Chat History\n",
      "\n",
      "System: You are an AI Assistant that helps user answer questions about their data. \n",
      "\n",
      "You have access to articles to help you answer questions. \n",
      "\n",
      "Use only the contents from these documents to answer questions. \n",
      "\n",
      "User: How many goals did Cristiano Ronaldo score in 2014?\n",
      "\n",
      "\n",
      "## Sources\n",
      "\n",
      "In the 2013-14 season, Ronaldo broke the record for most goals in one Champions League season by scoring his 17th goal with a penalty in extra time in the final against Atlético Madrid that Real Madrid won 4–1. The previous record was 14 goals, set by Messi in the 2011-12 season.\n",
      "In the 2014-15 season, Ronaldo set a new personal record by scoring 61 goals in all competitions. This achievement helped him win his second Ballon d'Or. He scored five goals in one match for the first time in his career in a 9-1 win vs. Granada on 5 April 2015. He became Real Madrid's all-time top scorer when he scored 5 goals against RCD Espanyol in a 6-0 away win on 12 September 2015. This brought his total goal tally to 230 goals in 203 games. The previous record holder was Raul.\n",
      "In the 2018 World Cup held in Russia, Ronaldo scored 4 goals. In Portugal's first group game, he scored a hat trick against Spain in a 3-3 draw. After that he scored the winning goal against Morocco. In the last group game, he missed a penalty in a 1-1 draw against Iran. Portugal qualified to the knockout stages by finishing second in the group. They were eliminated by Uruguay 2-1. Ronaldo became one of only four players to score at 4 World Cups. He has played at 4 of them: 2006, 2010, 2014, and 2018.\n",
      "\n",
      "## Query\n",
      "How many goals did Cristiano Ronaldo score in 2014?\n",
      "\n",
      "## Response\n",
      "Assistant: Based on the information provided in the sources, there is no specific mention of how many goals Cristiano Ronaldo scored in 2014.\n",
      "\n",
      "-----\n",
      "\n",
      "## Chat History\n",
      "\n",
      "System: You are an AI Assistant that helps user answer questions about their data. \n",
      "\n",
      "You have access to articles to help you answer questions. \n",
      "\n",
      "Use only the contents from these documents to answer questions. \n",
      "\n",
      "User: How many goals did Cristiano Ronaldo score in 2014?\n",
      "\n",
      "Assistant: Based on the information provided in the sources, there is no specific mention of how many goals Cristiano Ronaldo scored in 2014.\n",
      "\n",
      "User: Was this a personal record for him?\n",
      "\n",
      "\n",
      "## Sources\n",
      "\n",
      "In the 2014-15 season, Ronaldo set a new personal record by scoring 61 goals in all competitions. This achievement helped him win his second Ballon d'Or. He scored five goals in one match for the first time in his career in a 9-1 win vs. Granada on 5 April 2015. He became Real Madrid's all-time top scorer when he scored 5 goals against RCD Espanyol in a 6-0 away win on 12 September 2015. This brought his total goal tally to 230 goals in 203 games. The previous record holder was Raul.\n",
      "On 2 November 2011, Ronaldo scored both goals in a 2-0 Champions League group stage win against Olympique Lyon. The second goal was his 100th goal for Real Madrid. He achieved this in just 105 matches. He scored his 100th La Liga goal for his club in just 92 appearances in a 5-1 win against Real Sociedad on 24 March 2012.\n",
      "In the 2013-14 season, Ronaldo broke the record for most goals in one Champions League season by scoring his 17th goal with a penalty in extra time in the final against Atlético Madrid that Real Madrid won 4–1. The previous record was 14 goals, set by Messi in the 2011-12 season.\n",
      "\n",
      "## Query\n",
      "Was this a personal record for him?\n",
      "\n",
      "## Response\n",
      "Assistant: No, the personal record mentioned in the sources refers to the 2014-15 season, where Cristiano Ronaldo scored 61 goals in all competitions. There is no specific mention of his goal record for the 2014 season.\n",
      "\n",
      "-----\n",
      "\n",
      "## Chat History\n",
      "\n",
      "System: You are an AI Assistant that helps user answer questions about their data. \n",
      "\n",
      "You have access to articles to help you answer questions. \n",
      "\n",
      "Use only the contents from these documents to answer questions. \n",
      "\n",
      "User: How many goals did Cristiano Ronaldo score in 2014?\n",
      "\n",
      "Assistant: Based on the information provided in the sources, there is no specific mention of how many goals Cristiano Ronaldo scored in 2014.\n",
      "\n",
      "User: Was this a personal record for him?\n",
      "\n",
      "Assistant: No, the personal record mentioned in the sources refers to the 2014-15 season, where Cristiano Ronaldo scored 61 goals in all competitions. There is no specific mention of his goal record for the 2014 season.\n",
      "\n",
      "User: Who held the record before him?\n",
      "\n",
      "\n",
      "## Sources\n",
      "\n",
      "In the 2014-15 season, Ronaldo set a new personal record by scoring 61 goals in all competitions. This achievement helped him win his second Ballon d'Or. He scored five goals in one match for the first time in his career in a 9-1 win vs. Granada on 5 April 2015. He became Real Madrid's all-time top scorer when he scored 5 goals against RCD Espanyol in a 6-0 away win on 12 September 2015. This brought his total goal tally to 230 goals in 203 games. The previous record holder was Raul.\n",
      "He currently Plays for Manchester United and his shirt number is 7. He is now considered the greatest of all time with the most goals of 800+ in his all time of carrer.\n",
      "He won the first FIFA Puskas Award in 2009. The Puskas Award is given to whoever scores the best goal of that year. The goal was a 40-yard strike into the top-left corner against FC Porto on 15 April 2009 in the Champions League quarter finals. That goal was the only goal of the game. It was also an important goal because it sent United to the semi-finals. In the semi-final against Arsenal, Ronaldo scored two goals. One of them was a free kick from 40 yards out. His goals helped Man United qualify to the final, where they lost to Barcelona 2-0.\n",
      "\n",
      "## Query\n",
      "Who held the record before him?\n",
      "\n",
      "## Response\n",
      "Assistant: The record for the all-time top scorer at Real Madrid before Cristiano Ronaldo was Raul.\n",
      "\n",
      "-----\n",
      "\n",
      "## Chat History\n",
      "\n",
      "System: You are an AI Assistant that helps user answer questions about their data. \n",
      "\n",
      "You have access to articles to help you answer questions. \n",
      "\n",
      "Use only the contents from these documents to answer questions. \n",
      "\n",
      "User: How many goals did Cristiano Ronaldo score in 2014?\n",
      "\n",
      "Assistant: Based on the information provided in the sources, there is no specific mention of how many goals Cristiano Ronaldo scored in 2014.\n",
      "\n",
      "User: Was this a personal record for him?\n",
      "\n",
      "Assistant: No, the personal record mentioned in the sources refers to the 2014-15 season, where Cristiano Ronaldo scored 61 goals in all competitions. There is no specific mention of his goal record for the 2014 season.\n",
      "\n",
      "User: Who held the record before him?\n",
      "\n",
      "Assistant: The record for the all-time top scorer at Real Madrid before Cristiano Ronaldo was Raul.\n",
      "\n",
      "User: When was the U.S. declaration of independence signed? \n",
      "\n",
      "\n",
      "## Sources\n",
      "\n",
      "On 2 November, Spanish courts issued an European Arrest Warrant against Puigdemont and four other cabinet members to Belgian authorities. Two days later, they turned themselves in to the Belgian police. Hours later, he was released.\n",
      "However, the US military prefers not to say 24:00 - they do not like to have two names for the same thing, so they always say \"23:59\", which is one minute before midnight.\n",
      "His status as President is a matter of dispute following Catalonia's declaration of independence from Spain on 27 October 2017. From the perspective of the Government of Catalonia, he remains Catalan President. From the perspective of the Government of Spain, he was removed from office by Prime Minister Mariano Rajoy on 28 October 2017. Puigdemont did not recognize his removal from office, stating that he will \"work to build a free country\".\n",
      "\n",
      "## Query\n",
      "When was the U.S. declaration of independence signed? \n",
      "\n",
      "## Response\n",
      "Assistant: Based on the information provided in the sources, there is no mention of the specific date when the U.S. Declaration of Independence was signed.\n",
      "\n",
      "-----\n",
      "\n"
     ]
    }
   ],
   "source": [
    "Console.WriteLine($\"{FormatMessage(systemMessage)}\");\n",
    "\n",
    "while(chatting)\n",
    "{\n",
    "    //Get User input\n",
    "    var userInput = await Kernel.GetInputAsync(\"Please enter your prompt. Press 'q' to quit.\");\n",
    "    if(userInput.ToLowerInvariant() == \"q\")\n",
    "    {\n",
    "        chatting = false;\n",
    "        break;    \n",
    "    }\n",
    "    \n",
    "    // Query relevant documents\n",
    "    var embeddingOptions = new EmbeddingsOptions\n",
    "    {\n",
    "        DeploymentName=embeddingDeploymentId,\n",
    "        Input={userInput}\n",
    "    };\n",
    "\n",
    "    var embeddingResponse = await client.GetEmbeddingsAsync(embeddingOptions);\n",
    "    var inputEmbedding = embeddingResponse.Value.Data[0].Embedding.ToArray();\n",
    "    var docs = \n",
    "        GetTopKDocuments(sources, inputEmbedding, 3)\n",
    "            .Select(doc => doc.Metadata.Text)\n",
    "            .ToArray(); \n",
    "\n",
    "    // Generate User Prompt\n",
    "    messages.Add(new ChatRequestUserMessage(userInput));\n",
    "    var query = RenderUserPrompt(messages, docs, userInput);\n",
    "    var userMessage = new ChatRequestUserMessage(query);\n",
    "    options.Messages.Add(userMessage);\n",
    "    Console.WriteLine(query);\n",
    "    \n",
    "    // Generate response\n",
    "    var assistantResponse = await client.GetChatCompletionsAsync(options);\n",
    "    var response = assistantResponse.Value.Choices[0].Message.Content;\n",
    "    var assistantMessage = new ChatRequestAssistantMessage(response);\n",
    "    Console.WriteLine($\"\\n## Response\\n{FormatMessage(assistantMessage)}\\n\");\n",
    "    messages.Add(assistantMessage);\n",
    "    options.Messages.Add(assistantMessage);\n",
    "    Console.WriteLine(\"-----\");\n",
    "    Console.WriteLine(\"\");\n",
    "};\n",
    "\n",
    "messages.Clear();\n",
    "options.Messages.Clear();"
   ]
  }
 ],
 "metadata": {
  "language_info": {
   "name": "csharp"
  },
  "orig_nbformat": 4
 },
 "nbformat": 4,
 "nbformat_minor": 2
}
